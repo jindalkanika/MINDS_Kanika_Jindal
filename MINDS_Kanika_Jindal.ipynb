{
  "nbformat": 4,
  "nbformat_minor": 0,
  "metadata": {
    "colab": {
      "name": "MINDS_Kanika_Jindal.ipynb",
      "provenance": [],
      "collapsed_sections": []
    },
    "kernelspec": {
      "name": "python3",
      "display_name": "Python 3"
    },
    "language_info": {
      "name": "python"
    }
  },
  "cells": [
    {
      "cell_type": "code",
      "execution_count": 442,
      "metadata": {
        "id": "drqe_T4H61Tq"
      },
      "outputs": [],
      "source": [
        "!pip install nltk\n",
        "!pip install beautifulsoup4\n",
        "!pip install plotly\n",
        "\n",
        "from bs4 import BeautifulSoup\n",
        "import requests\n",
        "import json\n",
        "import re\n"
      ]
    },
    {
      "cell_type": "code",
      "source": [
        "url= \"https://www.aljazeera.com/where/mozambique/\"\n",
        "\n",
        "# Make a GET request to fetch the raw HTML content\n",
        "html_content = requests.get(url).text\n",
        "\n",
        "# Parse the html content\n",
        "soup = BeautifulSoup(html_content, \"lxml\")\n",
        "n = 1\n",
        "articles_list = []\n",
        "# print(soup.prettify()) # print the parsed data of html\n",
        "for article in soup.find_all(\"article\"):\n",
        "  if n != 11:\n",
        "    articles_list.append(str(article.text))   \n",
        "  else:\n",
        "    break\n",
        "  n += 1\n",
        "\n",
        "print(articles_list)"
      ],
      "metadata": {
        "colab": {
          "base_uri": "https://localhost:8080/"
        },
        "id": "fmS1UkXq64lx",
        "outputId": "2531b950-14fd-42ed-f47c-d6c739b54d08"
      },
      "execution_count": 443,
      "outputs": [
        {
          "output_type": "stream",
          "name": "stdout",
          "text": [
            "['Floods hit South Africa’s KwaZu\\xadlu-Na\\xadtal province againThe floods come only a month af\\xadter tor\\xadren\\xadtial rains killed 435 peo\\xadple in KwaZu\\xadlu-Na\\xadtal.Published On 23 May 202223 May 2022', 'Mozam\\xadbique: Cy\\xadclone Gombe death toll ris\\xades to 53In re\\xadcent years, South\\xadern Africa has suf\\xadfered re\\xadpeat\\xaded dev\\xadas\\xadtat\\xading cy\\xadclones that used to be rel\\xada\\xadtive\\xadly rare.Published On 18 Mar 202218 Mar 2022', 'Mozam\\xadbique an\\xadnounces new prime min\\xadis\\xadter af\\xadter cab\\xadi\\xadnet reshuf\\xadfleNew min\\xadis\\xadters were named af\\xadter a ma\\xadjor reshuf\\xadfle by Pres\\xadi\\xaddent Fil\\xadipe Nyusi.Published On 4 Mar 20224 Mar 2022', 'Analy\\xadsis: Can African gas re\\xadplace Russ\\xadian sup\\xadplies to Eu\\xadrope?A lack of in\\xadfra\\xadstruc\\xadture, not ca\\xadpac\\xadi\\xadty, could hurt the con\\xadti\\xadnent’s plan to sup\\xadply gas to Eu\\xadrope in Rus\\xadsia’s stead.Published On 1 Mar 20221 Mar 2022', 'Dozens dead from Trop\\xadi\\xadcal Storm Ana in south\\xadern AfricaAt least 70 killed in storm that struck Mada\\xadgas\\xadcar, Mozam\\xadbique and Malawi as au\\xadthor\\xadi\\xadties scram\\xadble to re\\xadpair dam\\xadages.Published On 27 Jan 202227 Jan 2022', 'South\\xadern Africa bloc SADC ex\\xadtends Mozam\\xadbique mis\\xadsionRe\\xadgion\\xadal body says progress made against rebels in Cabo Del\\xadga\\xaddo province since troops de\\xadployed last year.Published On 12 Jan 202212 Jan 2022', ' From:  Start HereCli\\xadmate change and famine | Start HereWhy peo\\xadple in Mada\\xadgas\\xadcar are starv\\xading.playVideo Duration 06 minutes 43 seconds 06:43Published On 3 Oct 20213 Oct 2021', 'In Mozam\\xadbique, Kagame says Rwan\\xaddan troops’ work not overRwan\\xaddan pres\\xadi\\xaddent says his coun\\xadtry’s force will help se\\xadcure and re\\xadbuild Cabo Del\\xadga\\xaddo ar\\xadeas de\\xadstroyed by armed cam\\xadpaign.Published On 24 Sep 202124 Sep 2021', 'Rwan\\xadda, Mozam\\xadbique forces re\\xadcap\\xadture port city from rebelsMocim\\xadboa da Pra\\xadia, home to one of Africa’s biggest nat\\xadur\\xadal gas projects, re\\xadtak\\xaden from rebels, Rwan\\xaddan army says.Published On 8 Aug 20218 Aug 2021', 'Rwan\\xadda de\\xadploys 1,000 sol\\xaddiers to Mozam\\xadbique’s Cabo Del\\xadga\\xaddoGov’t says de\\xadploy\\xadment at re\\xadquest of Mozam\\xadbi\\xadcan au\\xadthor\\xadi\\xadties aimed at restor\\xading state con\\xadtrol in con\\xadflict-hit province.Published On 10 Jul 202110 Jul 2021']\n"
          ]
        }
      ]
    },
    {
      "cell_type": "code",
      "source": [
        "links = []\n",
        "titles = []\n",
        "data_title = {}\n",
        "n = 1\n",
        "for articles in soup.find_all(\"article\"):\n",
        "  if n != 11:\n",
        "    href_data = articles.find(\"a\")  # contains 2 rows\n",
        "    links.append(href_data['href'])\n",
        "    span_data = articles.find(\"span\").text\n",
        "    titles.extend(span_data)\n",
        "    data_title[href_data['href']] = span_data\n",
        "  else:\n",
        "    break\n",
        "  n += 1\n",
        "\n",
        "print(data_title)"
      ],
      "metadata": {
        "colab": {
          "base_uri": "https://localhost:8080/"
        },
        "id": "MeF8QI1T7GgJ",
        "outputId": "5cccbf7d-2476-47a9-f37e-fae9a378bf7d"
      },
      "execution_count": 444,
      "outputs": [
        {
          "output_type": "stream",
          "name": "stdout",
          "text": [
            "{'/news/2022/5/23/floods-hit-south-africas-kwazulu-natal-province-again': 'Floods hit South Africa’s KwaZu\\xadlu-Na\\xadtal province again', '/news/2022/3/18/mozambique-cyclone-gombe-death-toll-rises-to-53': 'Mozam\\xadbique: Cy\\xadclone Gombe death toll ris\\xades to 53', '/news/2022/3/4/mozambique-announces-new-prime-minister-and-finance-minister': 'Mozam\\xadbique an\\xadnounces new prime min\\xadis\\xadter af\\xadter cab\\xadi\\xadnet reshuf\\xadfle', '/economy/2022/3/1/analysis-can-african-gas-replace-russian-supplies-to-europe': 'Analy\\xadsis: Can African gas re\\xadplace Russ\\xadian sup\\xadplies to Eu\\xadrope?', '/news/2022/1/27/at-least-70-dead-from-tropical-storm-ana-in-southern-africa': 'Dozens dead from Trop\\xadi\\xadcal Storm Ana in south\\xadern Africa', '/news/2022/1/12/southern-africa-bloc-sadc-extends-mozambique-mission': 'South\\xadern Africa bloc SADC ex\\xadtends Mozam\\xadbique mis\\xadsion', '/program/start-here/': ' From:  Start Here', '/news/2021/9/24/in-mozambique-kagame-says-rwandan-troops-presence-to-continue': 'In Mozam\\xadbique, Kagame says Rwan\\xaddan troops’ work not over', '/news/2021/8/8/rwanda-mozambique-forces-recapture-port-city-from-rebels': 'Rwan\\xadda, Mozam\\xadbique forces re\\xadcap\\xadture port city from rebels', '/news/2021/7/10/rwanda-deploys-1000-soldiers-to-mozambique-cabo-delgado': 'Rwan\\xadda de\\xadploys 1,000 sol\\xaddiers to Mozam\\xadbique’s Cabo Del\\xadga\\xaddo'}\n"
          ]
        }
      ]
    },
    {
      "cell_type": "code",
      "source": [
        "data__para = {}\n",
        "\n",
        "TAG_RE = re.compile(r'<[^>]+>')\n",
        "\n",
        "def remove_tags(text):\n",
        "    return TAG_RE.sub('', text)\n",
        "\n",
        "for link in links:\n",
        "  url = \"https://www.aljazeera.com\"\n",
        "  html_content_link = requests.get(url+link).text\n",
        "  soup_link = BeautifulSoup(html_content_link, \"lxml\")\n",
        "  paragraphs = soup_link.find_all(\"p\")\n",
        "  for i in range(len(paragraphs)):\n",
        "    paragraphs[i] = remove_tags(str(paragraphs[i]))\n",
        "  data__para[link] = paragraphs\n",
        "\n",
        "print(data__para)"
      ],
      "metadata": {
        "colab": {
          "base_uri": "https://localhost:8080/"
        },
        "id": "l9yKUGwk-ZtC",
        "outputId": "9a5fb6d9-db98-44ba-91d5-74fedc068033"
      },
      "execution_count": 445,
      "outputs": [
        {
          "output_type": "stream",
          "name": "stdout",
          "text": [
            "{'/news/2022/5/23/floods-hit-south-africas-kwazulu-natal-province-again': ['The floods are happening only a month after torrential rains killed 435 people in the KwaZulu Natal province.', 'Heavy rains in South Africa have forced hundreds of people to flee their homes on the east coast, according to officials, only a month after the worst floods in living memory killed more than 400.\\nThe floods over the weekend hit infrastructure, roads, bridges and damaged buildings, mainly in the port city of Durban, the capital of KwaZulu-Natal province and home to some 3.9 million people.', '“Some areas are inaccessible and have become islands at this stage,” KwaZulu-Natal Premier Sihle Zikalala said during a news conference on Sunday.\\nNo fatalities were immediately recorded, but Zikalala added: “We are yet to receive a full comprehensive report on the impact of these latest heavy rains, but as reports come in a worrying picture is however emerging.”\\nIn April, torrential rain led to floods, landslides and the death of 435 people in KwaZulu-Natal and authorities said survivors were left without drinking water for nearly two weeks. Repairs are still ongoing after the floods caused damage worth hundreds of millions of dollars.\\nOn Sunday, parts of the road near the Umdloti beach resort north of Durban had been washed away, leaving gaping holes and cars balanced on the edge, AFP news agency reported.', '“The flooding started late yesterday [Saturday] afternoon but as a result of the collapse of this road we couldn’t get out,” one local resident, Kevin Govender, told AFP.', 'They were only able to get out once the emergency services arrived on Sunday.', 'Nearly 250 people were evacuated from the resort town overnight and rescue operations continued on Sunday, as the emergency services received more calls for help. Some homes have lost power.\\nThe water purification station for the eThekwini area close to Durban has also been damaged, said officials.', 'The South African Weather Service put the alert level at the highest on Saturday. Officials called on residents to stay at home.', 'Authorities in KwaZulu-Natal opened 82 reception centres while police, firefighters and rescue workers were ready to respond rapidly to emergencies. The army has also been called in for reinforcement and officials have evacuated elderly people in several villages.', 'On Monday, the weather service said conditions had improved significantly but still they expect the rains to continue in parts of the province.', 'Follow Al Jazeera English:'], '/news/2022/3/18/mozambique-cyclone-gombe-death-toll-rises-to-53': ['In recent years, Southern Africa has suffered repeated devastating cyclones and scientists believe climate change is fuelling their intensity.', 'Tropical Cyclone Gombe has killed at least 53 people since it hit Mozambique a week ago, a sharp rise from earlier estimates.', 'According to the National Institute of Disaster Management (INGC) on Thursday, another 80 people have been injured and 400,000 affected since the cyclone swept into northern and central areas of the country, flooding towns and destroying houses.', 'The initial death toll in the southern African country was estimated at seven.', 'Data showed Gombe had completely destroyed 45,000 homes and partially destroyed 30,000.', 'In the past few years, Southern Africa has suffered repeated devastating cyclones of the type that used to be relatively rare, and scientists believe climate change is fuelling their intensity via warming of the Indian Ocean.', 'In January, Tropical Storm Ana killed at least 88 people across Southern and Eastern Africa.', 'Follow Al Jazeera English:'], '/news/2022/3/4/mozambique-announces-new-prime-minister-and-finance-minister': ['New ministers were named after a major reshuffle by President Filipe Nyusi.', 'Mozambique President Filipe Nyusi has appointed a new prime minister and filled several other posts, including the finance minister, as part of a cabinet reshuffle.', 'A statement from the presidency on Thursday named Adriano Afonso Maleiane as the replacement for Carlos Agostinho do Rosário, who had been prime minister since 2015.', 'It also named Ernesto Max Tonela as the minister of economy and finance, and Carlos Zacarias, currently chairman of the National Petroleum Instituto (INP) responsible for licensing oil and gas projects, as mineral resources and energy minister.', 'On Wednesday, Nyusi had fired six ministers, without giving a reason, in what was seen as a major cabinet reshuffle.', 'Follow Al Jazeera English:'], '/economy/2022/3/1/analysis-can-african-gas-replace-russian-supplies-to-europe': ['A lack of infrastructure, not capacity, could hurt the continent’s plan to supply gas to Europe in Russia’s stead.', 'Lagos, Nigeria – On February 22, German Chancellor Olaf Scholz announced during a news conference that the European superpower was halting approval of Russia-owned Nord Stream 2 after President Vladimir Putin officially sent troops into eastern Ukraine.', 'Nord Stream 2, an $11bn gas pipeline project owned by Moscow-backed energy company Gazprom, runs from western Siberia to Germany. The project was built to ensure a sustainable energy distribution across the European Union, especially as gas prices reached record highs in Europe – which gets more than a third of its natural gas from Russia.', 'As the conflict continues in Ukraine, European gas prices have soared and there is the likelihood that Moscow could shut off supplies of gas, widely considered part of Putin’s leverage against the West in his obsession with Ukraine.', 'Before that, European countries will be pulling the stops to find contingency supply networks in the coming weeks. In fact, sources say the United States is already in talks with Qatar over supplying gas to the EU as a crucial substitute for Russia.', 'However, during a forum of gas exporting countries held last week in Qatar, the bloc said it would be unable to provide a considerable amount of replacement gas to Europe in the event of sanctions against Russia. They stressed the need for significant investment in gas infrastructure, as well as long-term contracts, to guarantee a large supply to Europe.', 'This has led to an emerging debate about whether African countries, which have some of the world’s deepest gas reserves, can step in to fill the gap – a demand of 150-190 billion cubic metres annually that Russia has usually supplied to Europe.', 'Recently,\\xa0Tanzanian President Samia Suluhu Hassan said the Russian invasion of Ukraine could prove to be an opportunity for gas sales as the East African country makes efforts to secure a new energy market outside Africa. “Whether Africa or Europe or America, we are looking for markets,” said Hassan. “And fortunately, we are working with companies from Europe.”', 'Tanzania, which has the sixth-largest gas reserves in Africa – an estimated 57 trillion cubic feet (1.6 billion cubic metres) of gas reserves – says it has been working with Shell to utilise its vast offshore gas resources and export to Europe and elsewhere.', 'Africa’s largest gas producer has similar plans too. Timipre Sylva, Nigeria’s junior petroleum minister, told the press at the gas exporting countries’ forum in Doha, “We want to build a pipeline, a trans-Sahara pipeline, that is going to take our gas to Algeria, then to Europe.”', 'Nigeria’s comments are buoyed by the recent signing of an MoU with Algeria and the Niger Republic and the ongoing construction of the Trans-Saharan Gas Pipeline, a 614km (381.5 miles) long natural gas pipeline beginning in northern Nigeria.', 'There is no official word on when the pipeline, first mooted in the 1970s, will be completed but it is slated to run through northern Nigeria into Niger and Algeria, connecting to Europe eventually.', 'Still there are concerns about whether African countries can become a proper stopgap solution for natural gas as Europe tackles Russia’s military onslaught against one of its own – or long-term suppliers.', 'Experts say a historic lack of investment in gas infrastructure has hampered the energy industry in sub-Saharan Africa, unlike in Northern Africa.', 'For instance, the Maghreb-Europe Gas Pipeline in Algeria – Africa’s largest natural gas exporter – conveys natural gas through Morocco to Spain and Portugal, and the Medgaz pipeline links Algeria directly to Spain.', 'Experts estimated that Algeria exported 9 billion cubic feet (255 million cubic metres) of gas to Spain in 2020 and up to 17 billion cubic feet (481 million cubic metres) annually before that. The drop was due to gas production dipping in a breakdown in relations with Morocco; last October, Algeria announced that it would immediately begin exporting gas directly to Spain.', '“It is important to note that [North] Africa already has an established gas export market with Europe [before the Ukrainian crisis],” said Linda Mabhena-Olagunju, oil and gas lawyer and CEO of Johannesburg-based independent power producer DLO Energy Resource Group. “The Medgaz pipeline capacity enhancements [in Algeria] are also expected to increase exports to Europe.”', 'But many African countries with massive gas reserves have also struggled to attract investment to build gas infrastructure projects to supply the European market.', 'Angola, which has 13.5 trillion cubic feet (382 billion cubic metres) of proven gas reserves, has experienced a sharp decline in oil and gas production in the last five years due to a combination of technical and operational problems, as well as a lack of upstream investment and incentives.', 'In 2020, the Muhammadu Buhari administration announced “The Decade of Gas”, a Nigerian initiative to prioritise the gas industry and take advantage of a global transition to cleaner fuels.', 'As part of that drive, it has commenced construction of the 614km-long, $2.5bn Ajaokuta-Kaduna-Kano Natural Gas Pipeline. Most of the funding comes as a loan from Chinese banks.', 'Still, like in many other African countries, significant investments are needed to build trans-regional and intercontinental pipelines, in order to open up access to Europe. And they all need loads of capital.', 'Nigeria is hoping that its new industry legislation – signed last August – can provide a new framework to cut down on waste and corruption in the oil sector, reshape host community relations and ultimately, investment.', '“Nigeria is not presently a top investment destination for the oil and gas industry,” said Joe Nwakwue, former chairman of the Society of Petroleum Engineers in Nigeria and ex-adviser to the junior petroleum minister. “This was why we pushed for a competitive fiscal arrangement in the bill.”', '“Additionally, to address the infrastructure challenge, we need to open up the sector to private capital,” he said. “Our current oligopoly would not suffice as the Nigerian National Petroleum Corporation lacks the capital to build our required infrastructure.”', 'Using vessels for direct transport of liquefied natural gas across the seas could also put sub-Saharan African countries in prime position to become competitive producers and exporters, Mabhena-Olagunju told Al Jazeera.', 'There are also other existential issues that experts say African countries have to fix first to be a ready alternative for Europe in situations of urgency.', 'Mozambique holds roughly 100 trillion cubic feet (2.8 trillion cubic metres) of proven natural gas reserves, accounting for approximately 1 percent of the world’s total reserves. But an\\xa0ongoing armed uprising\\xa0in the northern Mozambican province of Cabo Delgado, a gas-rich area that borders Tanzania, has\\xa0hampered activity on a planned $50bn project.', 'Elsewhere, a wave of security threats from armed groups has affected oil and gas exploration in Nigeria’s oil-rich Niger Delta.', '“The key factor that remains a challenge for Africa as a reliable LNG producer and exporter revolves around security of supply,” said Mabhena-Olagunju. “Whilst the LNG discoveries in Mozambique are a great find, it is also important to recognise that insecurity leads to delays and instability of supply.”', 'Can African countries wing it?', 'Follow Al Jazeera English:'], '/news/2022/1/27/at-least-70-dead-from-tropical-storm-ana-in-southern-africa': ['At least 70 people were killed in a storm that struck Madagascar, Mozambique and Malawi, and authorities are scrambling to repair damages.', 'The death toll from a storm that struck three southern African countries rose to 70 on Thursday as emergency teams battled to repair damaged infrastructure and help tens of thousands of victims.', 'Packing torrential rains, Tropical Storm Ana made landfall Monday in Madagascar before ploughing into Mozambique and Malawi.', 'Rescue workers and authorities across the three countries were still assessing the full extent of the damage.', 'Madagascar has reported 41 dead, with 18 others killed in Mozambique and 11 in Malawi.', 'Remnants of the storm have passed over Zimbabwe, but no deaths have been reported there.', 'In the three hardest-hit countries, tens of thousands of homes were damaged. Some collapsed under the heavy rain, trapping victims in the rubble.', 'Bridges were washed away by swollen rivers, while livestock drowned and submerged fields, destroying the livelihoods of rural families.', 'In Madagascar, 110,000 had to flee their homes. In the capital Antananarivo, schools and gyms were turned into emergency shelters.', '“We only brought our most important possessions,” Berthine Razafiarisoa, who sheltered in a gym with his family of 10, told AFP news agency.', 'In northern and central Mozambique, Ana destroyed 10,000 homes, dozens of schools and hospitals, and downed power lines.', 'Mozambique’s weather service expects another storm to form over the Indian Ocean in the coming days. Up to six tropical cyclones are expected before the rainy season ends in March.', 'In neighbouring Malawi, the government declared a state of natural disaster.', 'Most of the country lost electricity early in the week, after floodwaters hit generating stations. Power was restored by Thursday in parts of the country, but parts of the electric grid were destroyed.', '“Our priority now is restoring power to health establishments, water treatment distribution systems, and schools,” the national power utility said in a statement.', 'Southern Africa, and especially Mozambique, has suffered repeated destructive storms in recent years.', 'Follow Al Jazeera English:'], '/news/2022/1/12/southern-africa-bloc-sadc-extends-mozambique-mission': ['Regional body says progress made against rebels in Cabo Delgado province since troops deployed last year.', 'Southern African regional bloc SADC at a summit has extended the mandate of a troop deployment in Mozambique to help the country fight an armed uprising, a communique from the summit showed.', '“Summit noted the good progress made since the deployment of the SADC Mission in Mozambique and extended its mandate,” the communique on Wednesday read, without saying how long the extension was for.', 'SADC nations and Rwanda resolved last June to send more than 3,000 troops to help Mozambique respond to an armed uprising in the northern province of Cabo Delgado.', 'On Tuesday, South African President Cyril Ramaphosa, who is chairperson of the SADC Organ on Politics, Defence and Security Cooperation, said that the deployment of the SADC Mission in Mozambique (SAMIM) was showing some results.', '“Since the deployment … significant progress has been made,” said Ramaphosa in opening remarks at the two-day talks in the Malawian capital, Lilongwe.', '“The security situation in Cabo Delgado is improving, which has allowed for some internally displaced persons to return to their homes and resume their normal lives,” he said.', 'Operating alongside Mozambican troops, regional forces have helped to create “safe passage” for bringing humanitarian aid into violence-hit areas, he said.', 'The mission was initially deployed in July, but its mandate was extended indefinitely in October.', 'Cabo Delgado, a gas-rich province bordering Tanzania, has been hit by attacks since 2017.', 'At least 3,500 people have died and approximately 820,000 have fled their homes.', 'Atrocities have included massacres, beheadings, the torching of homes, and mass abductions – particularly of girls.', 'Follow Al Jazeera English:'], '/program/start-here/': ['Start Here takes the big news stories and breaks them down. The world is complicated, the news doesn’t have to be.', 'What is mon\\xadkey\\xadpox and should we be wor\\xadried?', 'How bad is COVID in North Ko\\xadrea?', 'What we know about the killing of Pales\\xadtin\\xadian jour\\xadnal\\xadist Shireen Abu Ak\\xadleh.', 'Sri Lan\\xadka is fac\\xading eco\\xadnom\\xadic ruin and a po\\xadlit\\xadi\\xadcal cri\\xadsis.', 'How She\\xadhbaz Sharif re\\xadplaced Im\\xadran Khan as Pak\\xadistan’s prime min\\xadis\\xadter.', 'Has the war in Ukraine giv\\xaden NATO new pur\\xadpose?', 'What is hap\\xadpen\\xading where and the im\\xadpact on peo\\xadple.', 'Why NATO is rul\\xading out a no-fly zone in Ukraine', 'Pres\\xadi\\xaddent Ze\\xadlen\\xadskyy: from co\\xadme\\xaddi\\xadan to com\\xadman\\xadder-in-chief', 'How West\\xadern sanc\\xadtions could crip\\xadple Rus\\xadsia’s econ\\xado\\xadmy.', 'Why the Rus\\xadsia-Ukraine cri\\xadsis just got much worse', 'Why are food prices ris\\xading?', 'What is go\\xading on in Yemen and is the war get\\xadting worse?', 'Why is Boris John\\xadson in trou\\xadble?', 'Follow Al Jazeera English:'], '/news/2021/9/24/in-mozambique-kagame-says-rwandan-troops-presence-to-continue': ['Rwandan president says his country’s force will help secure and rebuild Cabo Delgado areas destroyed by years-long armed campaign.', 'Rwandan President Paul Kagame has arrived in Mozambique, where he has deployed some 1,000 soldiers to help local security forces tackle fighters wreaking havoc in the country’s north.', 'Attacks by an armed group known locally as al-Shabab, whose origins, analysts say, are steeped in local political, religious and economic discontent, have steadily increased in the Cabo Delgado province since October 2017. The violence, including the raiding of villages and towns, has killed more than 3,306 people – half of them civilians – and displaced at least 800,000 from their homes over the past four years.', 'Rwanda in July was the first of several African countries to provide reinforcements to Mozambique’s army, overwhelmed by the worsening conflict in the gas-rich province. A contingent of forces from the regional bloc, the Southern African Development Community (SADC), is also patrolling northern Cabo Delgado.', 'Kagame landed in the provincial capital, Pemba, on Friday morning and was received by his Mozambican counterpart, Filipe Nyusi. The two leaders met and addressed Rwandan troops deployed to the province.', 'President Nyusi welcomes President Kagame to Pemba, Mozambique for a two-day working visit. The Presidents will meet with the Rwandan Joint Forces working with Mozambican Defence Armed Forces in Cabo Delgado, followed by tête-à-tête and bilateral meetings and a press conference. pic.twitter.com/5IgFJMRl8f', '— Presidency | Rwanda (@UrugwiroVillage) September 24, 2021', '', 'In a joint news conference, Kagame said Rwandan troops would help secure and rebuild the areas destroyed by the violence.', '“The work hasn’t been easy,” Kagame told his soldiers, according to posts on the Rwandan presidency’s Twitter account. “You have done great work alongside Mozambican troops. You sacrificed and endured days and nights in the scorching sun, heavy rains,” he said.', '“The work done so far cannot stop here. We now have another task which is to continue rebuilding and protecting this country.”', 'For his part, Nyusi called Rwandan troops “real heroes”, adding that Mozambique’s “soldiers are forever indebted to you and we look forward to continuing rebuilding the lives of our citizens for the better”.', ' ', '', ' \\n', '', ' ', 'Foreign forces have helped Mozambique regain ground in Cabo Delago since fighters linked to ISIL (ISIS) launched a coordinated assault on the port town of Palma in March, offsetting multibillion-dollar gas projects and raising international concern.', 'Some local officials have encouraged civilians to return, according to media reports, and the Rwandan military’s spokesman said 25,000 people had been brought home. “It is very safe for them to go back,” Ronald Rwivanga told Reuters news agency on Thursday.', 'But United Nations officials are not so sure.', 'A document compiled in September for UN agencies and other aid groups, seen by Reuters, said it was not clear whether the fighters’ capabilities had been much reduced. “Fighting continues in certain locations and civilian authorities have not been re-established,” it added.', 'Al Jazeera’s Malcolm Webb, reporting from an abandoned town in Cabo Delgado, said the remains of what the fighters had left behind were still visible.', '“A lot of the buildings have been torched, goods from the shops have been looted, cars have been set on fire as well,” he added.', '“Civilians in this area really fear the fighters from this armed group. They are notorious for beheadings, for abducting people and all of the villages that we passed along the road are still completely deserted.”', ' ', '', ' \\n', '', ' ', 'Rwivanga said the Rwandans had been moving civilians back into the area they control near a $20bn liquefied natural gas (LNG) project run by oil major TotalEnergies, which was forced to a halt by the Palma attack.', 'Yet security analysts say the Mozambican military deficiencies that allowed the armed campaign to take hold in the north – including soldiers that are ill-equipped, undisciplined and poorly paid – will not be easily reversed. Even with other forces there, they say, security is uncertain outside of small, heavily guarded areas.', 'Mozambican and Rwandan forces notched up a major victory in August, when they drove the fighters out of their de facto headquarters in the port city of Mocimboa da Praia.', 'But violence has continued. Local people and security forces have recently reported a string of attacks in Quissanga district, south of Mocimba da Praia, where fighters are believed to have fallen back after the town was retaken. The latest occurred on Thursday evening in the village of Lindi.', '“Two people were killed and another two people were injured,” an unnamed police source was quoted as saying by AFP news agency on Friday, adding that fighters had captured several women and girls.', 'Fighters also ambushed two buses transporting soldiers later that night, causing at least one death, a traffic police officer told AFP. The attack took place on a main road that had been closed for two years due to similar incidents, and only recently reopened following the arrival of foreign troops.', 'In total, at least 10 people have been killed across several villages in Quissanga over the past week, another police officer said. Some of the victims were reportedly beheaded.', ' ', '', ' \\n', '', ' ', 'Follow Al Jazeera English:'], '/news/2021/8/8/rwanda-mozambique-forces-recapture-port-city-from-rebels': ['Mocimboa da Praia, home to one of Africa’s biggest natural gas projects, retaken from rebels, the Rwandan army says.', 'Rwandan forces deployed last month to help Mozambique’s army battle rebels said on Sunday they have recaptured control of the key northern port of Mocimboa da Praia from the armed group.', '“The port city of Mocimboa da Praia, a major stronghold of the insurgency for more than two years has been captured by Rwandan and Mozambican security forces,” the Rwanda Defence Forces said in a tweet.', 'Forces’ spokesman Colonel Ronald Rwivanga confirmed this to the AFP news agency, saying “yes [Mocimboa da Praia] has fallen”.', 'The port town, from where the first rebel attacks were staged in October 2017, has since last year become the de facto headquarters of a rebel armed group, locally referred to as al-Shabab.', 'Mocimboa da Praia “was the last stronghold of the insurgents, marking the end of the first phase of counter-insurgency operations which is dislodging insurgents from the stronghold”, Rwivanga said in a text message.', 'Rwanda sent in 1,000 soldiers last month to shore up Mozambican military forces that have been struggling to regain control over the northern Cabo Delgado province, which is home to one of Africa’s biggest liquefied natural gas projects.', 'The forces last week claimed their first success since deploying, saying they had helped the Mozambique army regain control of Awasse – a small but also strategic settlement near Mocimboa da Praia.', ' ', '', ' \\n', '', ' ', 'Follow Al Jazeera English:'], '/news/2021/7/10/rwanda-deploys-1000-soldiers-to-mozambique-cabo-delgado': ['The government in Kigali says deployment at the request of the Mozambican authorities aimed at restoring state control in the conflict-hit province.', 'Rwanda has started deploying 1,000-strong forces to Mozambique to help it combat worsening violence in the gas-rich northern Cabo Delgado province.', 'The announcement came on Friday after the 16-member Southern African Development Community (SADC) approved last month the deployment of joint forces to help Mozambique respond to the nearly four-year-old conflict, which has killed some 3,000 people and displaced almost 800,000, half of whom are children.', 'Soldiers from Rwanda, which is not a member of SADC, would fight alongside Mozambique’s forces and SADC troops, the Rwandan government said in a statement.', '“The Rwandan contingent will support efforts to restore Mozambican state authority by conducting combat and security operations, as well as stabilisation and security-sector reform,” it added.', 'Rwanda deploys joint force to Mozambique. Read full statement and background here: https://t.co/ezhoBGZyG5 pic.twitter.com/JexdejubEB', '— Government of Rwanda (@RwandaGov) July 9, 2021', 'Rwandan defence forces spokesman Ronald Rwivanga told Reuters news agency the new forces would have deployed in full by Saturday.', 'He said the Rwandan contingent was made up of members of the police force and troops trained “to deal with terrorism and security-related issues” in Cabo Delgado.', 'Alexandre Raymakers, Africa analyst at the United Kingdom-based global risk consultancy Verisk Maplecroft, said he believes the Rwandan contingent could be used to secure key liquefied natural gas (LNG) sites in an effort to lure back international investors.', '“The Rwandan security forces have developed a reputation for being a highly capable fighting force,” he said.', 'But, he added, “The presence of multiple military missions, in the form of a potential Rwandan contingent and the SADC, will likely lead to conflicting priorities and friction at the military command level, hindering the overall.”', ' ', '', ' \\n', '', ' ', 'Attacks by an armed group known locally as al-Shabab, whose origins, analysts say, are steeped in local political, religious and economic discontent, have steadily increased in the Cabo Delgado province since October 2017.', 'The sophistication of the attacks has increased, too.', 'The fighters linked to ISIL (ISIS) have ransacked towns and gained control of key roadways, destroying infrastructure and beheading civilians. In some cases, they have forced locals into their ranks or held them as sex slaves.', 'Since August 2020, the fighters have been in control of the key port town of Mocimboa da Praia, while in March, they launched a coordinated assault on Palma town, killing dozens and displacing tens of thousands, while also forcing the French energy firm Total to suspend its $20bn LNG project.', 'The government has deployed thousands of soldiers to Cabo Delgado to combat the fighters, but analysts have long cautioned that Mozambique’s army has historically been weak, poorly trained and underequipped.', 'The World Food Programme has warned of a growing hunger crisis as nearly one million people need food aid.', 'Follow Al Jazeera English:']}\n"
          ]
        }
      ]
    },
    {
      "cell_type": "code",
      "source": [
        "print(\"Number of articles: {} and Number of links and paragraphs: {}\".format(len(data_title), len(data__para)))"
      ],
      "metadata": {
        "colab": {
          "base_uri": "https://localhost:8080/"
        },
        "id": "QHl5t3Gz_wuo",
        "outputId": "ee77c0a8-6f5f-4536-fd9e-422bbd894101"
      },
      "execution_count": 446,
      "outputs": [
        {
          "output_type": "stream",
          "name": "stdout",
          "text": [
            "Number of articles: 10 and Number of links and paragraphs: 10\n"
          ]
        }
      ]
    },
    {
      "cell_type": "code",
      "source": [
        "input_data = {}\n",
        "for link in data_title:\n",
        "  if link in data__para:\n",
        "    input_data[data_title[link]] = \" \".join(data__para[link])\n",
        "\n",
        "print(input_data)"
      ],
      "metadata": {
        "colab": {
          "base_uri": "https://localhost:8080/"
        },
        "id": "xLi606UTYCQT",
        "outputId": "ae91286c-5cf3-4b6a-a209-d5181b4f973a"
      },
      "execution_count": 447,
      "outputs": [
        {
          "output_type": "stream",
          "name": "stdout",
          "text": [
            "{'Floods hit South Africa’s KwaZu\\xadlu-Na\\xadtal province again': 'The floods are happening only a month after torrential rains killed 435 people in the KwaZulu Natal province. Heavy rains in South Africa have forced hundreds of people to flee their homes on the east coast, according to officials, only a month after the worst floods in living memory killed more than 400.\\nThe floods over the weekend hit infrastructure, roads, bridges and damaged buildings, mainly in the port city of Durban, the capital of KwaZulu-Natal province and home to some 3.9 million people. “Some areas are inaccessible and have become islands at this stage,” KwaZulu-Natal Premier Sihle Zikalala said during a news conference on Sunday.\\nNo fatalities were immediately recorded, but Zikalala added: “We are yet to receive a full comprehensive report on the impact of these latest heavy rains, but as reports come in a worrying picture is however emerging.”\\nIn April, torrential rain led to floods, landslides and the death of 435 people in KwaZulu-Natal and authorities said survivors were left without drinking water for nearly two weeks. Repairs are still ongoing after the floods caused damage worth hundreds of millions of dollars.\\nOn Sunday, parts of the road near the Umdloti beach resort north of Durban had been washed away, leaving gaping holes and cars balanced on the edge, AFP news agency reported. “The flooding started late yesterday [Saturday] afternoon but as a result of the collapse of this road we couldn’t get out,” one local resident, Kevin Govender, told AFP. They were only able to get out once the emergency services arrived on Sunday. Nearly 250 people were evacuated from the resort town overnight and rescue operations continued on Sunday, as the emergency services received more calls for help. Some homes have lost power.\\nThe water purification station for the eThekwini area close to Durban has also been damaged, said officials. The South African Weather Service put the alert level at the highest on Saturday. Officials called on residents to stay at home. Authorities in KwaZulu-Natal opened 82 reception centres while police, firefighters and rescue workers were ready to respond rapidly to emergencies. The army has also been called in for reinforcement and officials have evacuated elderly people in several villages. On Monday, the weather service said conditions had improved significantly but still they expect the rains to continue in parts of the province. Follow Al Jazeera English:', 'Mozam\\xadbique: Cy\\xadclone Gombe death toll ris\\xades to 53': 'In recent years, Southern Africa has suffered repeated devastating cyclones and scientists believe climate change is fuelling their intensity. Tropical Cyclone Gombe has killed at least 53 people since it hit Mozambique a week ago, a sharp rise from earlier estimates. According to the National Institute of Disaster Management (INGC) on Thursday, another 80 people have been injured and 400,000 affected since the cyclone swept into northern and central areas of the country, flooding towns and destroying houses. The initial death toll in the southern African country was estimated at seven. Data showed Gombe had completely destroyed 45,000 homes and partially destroyed 30,000. In the past few years, Southern Africa has suffered repeated devastating cyclones of the type that used to be relatively rare, and scientists believe climate change is fuelling their intensity via warming of the Indian Ocean. In January, Tropical Storm Ana killed at least 88 people across Southern and Eastern Africa. Follow Al Jazeera English:', 'Mozam\\xadbique an\\xadnounces new prime min\\xadis\\xadter af\\xadter cab\\xadi\\xadnet reshuf\\xadfle': 'New ministers were named after a major reshuffle by President Filipe Nyusi. Mozambique President Filipe Nyusi has appointed a new prime minister and filled several other posts, including the finance minister, as part of a cabinet reshuffle. A statement from the presidency on Thursday named Adriano Afonso Maleiane as the replacement for Carlos Agostinho do Rosário, who had been prime minister since 2015. It also named Ernesto Max Tonela as the minister of economy and finance, and Carlos Zacarias, currently chairman of the National Petroleum Instituto (INP) responsible for licensing oil and gas projects, as mineral resources and energy minister. On Wednesday, Nyusi had fired six ministers, without giving a reason, in what was seen as a major cabinet reshuffle. Follow Al Jazeera English:', 'Analy\\xadsis: Can African gas re\\xadplace Russ\\xadian sup\\xadplies to Eu\\xadrope?': 'A lack of infrastructure, not capacity, could hurt the continent’s plan to supply gas to Europe in Russia’s stead. Lagos, Nigeria – On February 22, German Chancellor Olaf Scholz announced during a news conference that the European superpower was halting approval of Russia-owned Nord Stream 2 after President Vladimir Putin officially sent troops into eastern Ukraine. Nord Stream 2, an $11bn gas pipeline project owned by Moscow-backed energy company Gazprom, runs from western Siberia to Germany. The project was built to ensure a sustainable energy distribution across the European Union, especially as gas prices reached record highs in Europe – which gets more than a third of its natural gas from Russia. As the conflict continues in Ukraine, European gas prices have soared and there is the likelihood that Moscow could shut off supplies of gas, widely considered part of Putin’s leverage against the West in his obsession with Ukraine. Before that, European countries will be pulling the stops to find contingency supply networks in the coming weeks. In fact, sources say the United States is already in talks with Qatar over supplying gas to the EU as a crucial substitute for Russia. However, during a forum of gas exporting countries held last week in Qatar, the bloc said it would be unable to provide a considerable amount of replacement gas to Europe in the event of sanctions against Russia. They stressed the need for significant investment in gas infrastructure, as well as long-term contracts, to guarantee a large supply to Europe. This has led to an emerging debate about whether African countries, which have some of the world’s deepest gas reserves, can step in to fill the gap – a demand of 150-190 billion cubic metres annually that Russia has usually supplied to Europe. Recently,\\xa0Tanzanian President Samia Suluhu Hassan said the Russian invasion of Ukraine could prove to be an opportunity for gas sales as the East African country makes efforts to secure a new energy market outside Africa. “Whether Africa or Europe or America, we are looking for markets,” said Hassan. “And fortunately, we are working with companies from Europe.” Tanzania, which has the sixth-largest gas reserves in Africa – an estimated 57 trillion cubic feet (1.6 billion cubic metres) of gas reserves – says it has been working with Shell to utilise its vast offshore gas resources and export to Europe and elsewhere. Africa’s largest gas producer has similar plans too. Timipre Sylva, Nigeria’s junior petroleum minister, told the press at the gas exporting countries’ forum in Doha, “We want to build a pipeline, a trans-Sahara pipeline, that is going to take our gas to Algeria, then to Europe.” Nigeria’s comments are buoyed by the recent signing of an MoU with Algeria and the Niger Republic and the ongoing construction of the Trans-Saharan Gas Pipeline, a 614km (381.5 miles) long natural gas pipeline beginning in northern Nigeria. There is no official word on when the pipeline, first mooted in the 1970s, will be completed but it is slated to run through northern Nigeria into Niger and Algeria, connecting to Europe eventually. Still there are concerns about whether African countries can become a proper stopgap solution for natural gas as Europe tackles Russia’s military onslaught against one of its own – or long-term suppliers. Experts say a historic lack of investment in gas infrastructure has hampered the energy industry in sub-Saharan Africa, unlike in Northern Africa. For instance, the Maghreb-Europe Gas Pipeline in Algeria – Africa’s largest natural gas exporter – conveys natural gas through Morocco to Spain and Portugal, and the Medgaz pipeline links Algeria directly to Spain. Experts estimated that Algeria exported 9 billion cubic feet (255 million cubic metres) of gas to Spain in 2020 and up to 17 billion cubic feet (481 million cubic metres) annually before that. The drop was due to gas production dipping in a breakdown in relations with Morocco; last October, Algeria announced that it would immediately begin exporting gas directly to Spain. “It is important to note that [North] Africa already has an established gas export market with Europe [before the Ukrainian crisis],” said Linda Mabhena-Olagunju, oil and gas lawyer and CEO of Johannesburg-based independent power producer DLO Energy Resource Group. “The Medgaz pipeline capacity enhancements [in Algeria] are also expected to increase exports to Europe.” But many African countries with massive gas reserves have also struggled to attract investment to build gas infrastructure projects to supply the European market. Angola, which has 13.5 trillion cubic feet (382 billion cubic metres) of proven gas reserves, has experienced a sharp decline in oil and gas production in the last five years due to a combination of technical and operational problems, as well as a lack of upstream investment and incentives. In 2020, the Muhammadu Buhari administration announced “The Decade of Gas”, a Nigerian initiative to prioritise the gas industry and take advantage of a global transition to cleaner fuels. As part of that drive, it has commenced construction of the 614km-long, $2.5bn Ajaokuta-Kaduna-Kano Natural Gas Pipeline. Most of the funding comes as a loan from Chinese banks. Still, like in many other African countries, significant investments are needed to build trans-regional and intercontinental pipelines, in order to open up access to Europe. And they all need loads of capital. Nigeria is hoping that its new industry legislation – signed last August – can provide a new framework to cut down on waste and corruption in the oil sector, reshape host community relations and ultimately, investment. “Nigeria is not presently a top investment destination for the oil and gas industry,” said Joe Nwakwue, former chairman of the Society of Petroleum Engineers in Nigeria and ex-adviser to the junior petroleum minister. “This was why we pushed for a competitive fiscal arrangement in the bill.” “Additionally, to address the infrastructure challenge, we need to open up the sector to private capital,” he said. “Our current oligopoly would not suffice as the Nigerian National Petroleum Corporation lacks the capital to build our required infrastructure.” Using vessels for direct transport of liquefied natural gas across the seas could also put sub-Saharan African countries in prime position to become competitive producers and exporters, Mabhena-Olagunju told Al Jazeera. There are also other existential issues that experts say African countries have to fix first to be a ready alternative for Europe in situations of urgency. Mozambique holds roughly 100 trillion cubic feet (2.8 trillion cubic metres) of proven natural gas reserves, accounting for approximately 1 percent of the world’s total reserves. But an\\xa0ongoing armed uprising\\xa0in the northern Mozambican province of Cabo Delgado, a gas-rich area that borders Tanzania, has\\xa0hampered activity on a planned $50bn project. Elsewhere, a wave of security threats from armed groups has affected oil and gas exploration in Nigeria’s oil-rich Niger Delta. “The key factor that remains a challenge for Africa as a reliable LNG producer and exporter revolves around security of supply,” said Mabhena-Olagunju. “Whilst the LNG discoveries in Mozambique are a great find, it is also important to recognise that insecurity leads to delays and instability of supply.” Can African countries wing it? Follow Al Jazeera English:', 'Dozens dead from Trop\\xadi\\xadcal Storm Ana in south\\xadern Africa': 'At least 70 people were killed in a storm that struck Madagascar, Mozambique and Malawi, and authorities are scrambling to repair damages. The death toll from a storm that struck three southern African countries rose to 70 on Thursday as emergency teams battled to repair damaged infrastructure and help tens of thousands of victims. Packing torrential rains, Tropical Storm Ana made landfall Monday in Madagascar before ploughing into Mozambique and Malawi. Rescue workers and authorities across the three countries were still assessing the full extent of the damage. Madagascar has reported 41 dead, with 18 others killed in Mozambique and 11 in Malawi. Remnants of the storm have passed over Zimbabwe, but no deaths have been reported there. In the three hardest-hit countries, tens of thousands of homes were damaged. Some collapsed under the heavy rain, trapping victims in the rubble. Bridges were washed away by swollen rivers, while livestock drowned and submerged fields, destroying the livelihoods of rural families. In Madagascar, 110,000 had to flee their homes. In the capital Antananarivo, schools and gyms were turned into emergency shelters. “We only brought our most important possessions,” Berthine Razafiarisoa, who sheltered in a gym with his family of 10, told AFP news agency. In northern and central Mozambique, Ana destroyed 10,000 homes, dozens of schools and hospitals, and downed power lines. Mozambique’s weather service expects another storm to form over the Indian Ocean in the coming days. Up to six tropical cyclones are expected before the rainy season ends in March. In neighbouring Malawi, the government declared a state of natural disaster. Most of the country lost electricity early in the week, after floodwaters hit generating stations. Power was restored by Thursday in parts of the country, but parts of the electric grid were destroyed. “Our priority now is restoring power to health establishments, water treatment distribution systems, and schools,” the national power utility said in a statement. Southern Africa, and especially Mozambique, has suffered repeated destructive storms in recent years. Follow Al Jazeera English:', 'South\\xadern Africa bloc SADC ex\\xadtends Mozam\\xadbique mis\\xadsion': 'Regional body says progress made against rebels in Cabo Delgado province since troops deployed last year. Southern African regional bloc SADC at a summit has extended the mandate of a troop deployment in Mozambique to help the country fight an armed uprising, a communique from the summit showed. “Summit noted the good progress made since the deployment of the SADC Mission in Mozambique and extended its mandate,” the communique on Wednesday read, without saying how long the extension was for. SADC nations and Rwanda resolved last June to send more than 3,000 troops to help Mozambique respond to an armed uprising in the northern province of Cabo Delgado. On Tuesday, South African President Cyril Ramaphosa, who is chairperson of the SADC Organ on Politics, Defence and Security Cooperation, said that the deployment of the SADC Mission in Mozambique (SAMIM) was showing some results. “Since the deployment … significant progress has been made,” said Ramaphosa in opening remarks at the two-day talks in the Malawian capital, Lilongwe. “The security situation in Cabo Delgado is improving, which has allowed for some internally displaced persons to return to their homes and resume their normal lives,” he said. Operating alongside Mozambican troops, regional forces have helped to create “safe passage” for bringing humanitarian aid into violence-hit areas, he said. The mission was initially deployed in July, but its mandate was extended indefinitely in October. Cabo Delgado, a gas-rich province bordering Tanzania, has been hit by attacks since 2017. At least 3,500 people have died and approximately 820,000 have fled their homes. Atrocities have included massacres, beheadings, the torching of homes, and mass abductions – particularly of girls. Follow Al Jazeera English:', ' From:  Start Here': 'Start Here takes the big news stories and breaks them down. The world is complicated, the news doesn’t have to be. What is mon\\xadkey\\xadpox and should we be wor\\xadried? How bad is COVID in North Ko\\xadrea? What we know about the killing of Pales\\xadtin\\xadian jour\\xadnal\\xadist Shireen Abu Ak\\xadleh. Sri Lan\\xadka is fac\\xading eco\\xadnom\\xadic ruin and a po\\xadlit\\xadi\\xadcal cri\\xadsis. How She\\xadhbaz Sharif re\\xadplaced Im\\xadran Khan as Pak\\xadistan’s prime min\\xadis\\xadter. Has the war in Ukraine giv\\xaden NATO new pur\\xadpose? What is hap\\xadpen\\xading where and the im\\xadpact on peo\\xadple. Why NATO is rul\\xading out a no-fly zone in Ukraine Pres\\xadi\\xaddent Ze\\xadlen\\xadskyy: from co\\xadme\\xaddi\\xadan to com\\xadman\\xadder-in-chief How West\\xadern sanc\\xadtions could crip\\xadple Rus\\xadsia’s econ\\xado\\xadmy. Why the Rus\\xadsia-Ukraine cri\\xadsis just got much worse Why are food prices ris\\xading? What is go\\xading on in Yemen and is the war get\\xadting worse? Why is Boris John\\xadson in trou\\xadble? Follow Al Jazeera English:', 'In Mozam\\xadbique, Kagame says Rwan\\xaddan troops’ work not over': 'Rwandan president says his country’s force will help secure and rebuild Cabo Delgado areas destroyed by years-long armed campaign. Rwandan President Paul Kagame has arrived in Mozambique, where he has deployed some 1,000 soldiers to help local security forces tackle fighters wreaking havoc in the country’s north. Attacks by an armed group known locally as al-Shabab, whose origins, analysts say, are steeped in local political, religious and economic discontent, have steadily increased in the Cabo Delgado province since October 2017. The violence, including the raiding of villages and towns, has killed more than 3,306 people – half of them civilians – and displaced at least 800,000 from their homes over the past four years. Rwanda in July was the first of several African countries to provide reinforcements to Mozambique’s army, overwhelmed by the worsening conflict in the gas-rich province. A contingent of forces from the regional bloc, the Southern African Development Community (SADC), is also patrolling northern Cabo Delgado. Kagame landed in the provincial capital, Pemba, on Friday morning and was received by his Mozambican counterpart, Filipe Nyusi. The two leaders met and addressed Rwandan troops deployed to the province. President Nyusi welcomes President Kagame to Pemba, Mozambique for a two-day working visit. The Presidents will meet with the Rwandan Joint Forces working with Mozambican Defence Armed Forces in Cabo Delgado, followed by tête-à-tête and bilateral meetings and a press conference. pic.twitter.com/5IgFJMRl8f — Presidency | Rwanda (@UrugwiroVillage) September 24, 2021  In a joint news conference, Kagame said Rwandan troops would help secure and rebuild the areas destroyed by the violence. “The work hasn’t been easy,” Kagame told his soldiers, according to posts on the Rwandan presidency’s Twitter account. “You have done great work alongside Mozambican troops. You sacrificed and endured days and nights in the scorching sun, heavy rains,” he said. “The work done so far cannot stop here. We now have another task which is to continue rebuilding and protecting this country.” For his part, Nyusi called Rwandan troops “real heroes”, adding that Mozambique’s “soldiers are forever indebted to you and we look forward to continuing rebuilding the lives of our citizens for the better”.     \\n    Foreign forces have helped Mozambique regain ground in Cabo Delago since fighters linked to ISIL (ISIS) launched a coordinated assault on the port town of Palma in March, offsetting multibillion-dollar gas projects and raising international concern. Some local officials have encouraged civilians to return, according to media reports, and the Rwandan military’s spokesman said 25,000 people had been brought home. “It is very safe for them to go back,” Ronald Rwivanga told Reuters news agency on Thursday. But United Nations officials are not so sure. A document compiled in September for UN agencies and other aid groups, seen by Reuters, said it was not clear whether the fighters’ capabilities had been much reduced. “Fighting continues in certain locations and civilian authorities have not been re-established,” it added. Al Jazeera’s Malcolm Webb, reporting from an abandoned town in Cabo Delgado, said the remains of what the fighters had left behind were still visible. “A lot of the buildings have been torched, goods from the shops have been looted, cars have been set on fire as well,” he added. “Civilians in this area really fear the fighters from this armed group. They are notorious for beheadings, for abducting people and all of the villages that we passed along the road are still completely deserted.”     \\n    Rwivanga said the Rwandans had been moving civilians back into the area they control near a $20bn liquefied natural gas (LNG) project run by oil major TotalEnergies, which was forced to a halt by the Palma attack. Yet security analysts say the Mozambican military deficiencies that allowed the armed campaign to take hold in the north – including soldiers that are ill-equipped, undisciplined and poorly paid – will not be easily reversed. Even with other forces there, they say, security is uncertain outside of small, heavily guarded areas. Mozambican and Rwandan forces notched up a major victory in August, when they drove the fighters out of their de facto headquarters in the port city of Mocimboa da Praia. But violence has continued. Local people and security forces have recently reported a string of attacks in Quissanga district, south of Mocimba da Praia, where fighters are believed to have fallen back after the town was retaken. The latest occurred on Thursday evening in the village of Lindi. “Two people were killed and another two people were injured,” an unnamed police source was quoted as saying by AFP news agency on Friday, adding that fighters had captured several women and girls. Fighters also ambushed two buses transporting soldiers later that night, causing at least one death, a traffic police officer told AFP. The attack took place on a main road that had been closed for two years due to similar incidents, and only recently reopened following the arrival of foreign troops. In total, at least 10 people have been killed across several villages in Quissanga over the past week, another police officer said. Some of the victims were reportedly beheaded.     \\n    Follow Al Jazeera English:', 'Rwan\\xadda, Mozam\\xadbique forces re\\xadcap\\xadture port city from rebels': 'Mocimboa da Praia, home to one of Africa’s biggest natural gas projects, retaken from rebels, the Rwandan army says. Rwandan forces deployed last month to help Mozambique’s army battle rebels said on Sunday they have recaptured control of the key northern port of Mocimboa da Praia from the armed group. “The port city of Mocimboa da Praia, a major stronghold of the insurgency for more than two years has been captured by Rwandan and Mozambican security forces,” the Rwanda Defence Forces said in a tweet. Forces’ spokesman Colonel Ronald Rwivanga confirmed this to the AFP news agency, saying “yes [Mocimboa da Praia] has fallen”. The port town, from where the first rebel attacks were staged in October 2017, has since last year become the de facto headquarters of a rebel armed group, locally referred to as al-Shabab. Mocimboa da Praia “was the last stronghold of the insurgents, marking the end of the first phase of counter-insurgency operations which is dislodging insurgents from the stronghold”, Rwivanga said in a text message. Rwanda sent in 1,000 soldiers last month to shore up Mozambican military forces that have been struggling to regain control over the northern Cabo Delgado province, which is home to one of Africa’s biggest liquefied natural gas projects. The forces last week claimed their first success since deploying, saying they had helped the Mozambique army regain control of Awasse – a small but also strategic settlement near Mocimboa da Praia.     \\n    Follow Al Jazeera English:', 'Rwan\\xadda de\\xadploys 1,000 sol\\xaddiers to Mozam\\xadbique’s Cabo Del\\xadga\\xaddo': 'The government in Kigali says deployment at the request of the Mozambican authorities aimed at restoring state control in the conflict-hit province. Rwanda has started deploying 1,000-strong forces to Mozambique to help it combat worsening violence in the gas-rich northern Cabo Delgado province. The announcement came on Friday after the 16-member Southern African Development Community (SADC) approved last month the deployment of joint forces to help Mozambique respond to the nearly four-year-old conflict, which has killed some 3,000 people and displaced almost 800,000, half of whom are children. Soldiers from Rwanda, which is not a member of SADC, would fight alongside Mozambique’s forces and SADC troops, the Rwandan government said in a statement. “The Rwandan contingent will support efforts to restore Mozambican state authority by conducting combat and security operations, as well as stabilisation and security-sector reform,” it added. Rwanda deploys joint force to Mozambique. Read full statement and background here: https://t.co/ezhoBGZyG5 pic.twitter.com/JexdejubEB — Government of Rwanda (@RwandaGov) July 9, 2021 Rwandan defence forces spokesman Ronald Rwivanga told Reuters news agency the new forces would have deployed in full by Saturday. He said the Rwandan contingent was made up of members of the police force and troops trained “to deal with terrorism and security-related issues” in Cabo Delgado. Alexandre Raymakers, Africa analyst at the United Kingdom-based global risk consultancy Verisk Maplecroft, said he believes the Rwandan contingent could be used to secure key liquefied natural gas (LNG) sites in an effort to lure back international investors. “The Rwandan security forces have developed a reputation for being a highly capable fighting force,” he said. But, he added, “The presence of multiple military missions, in the form of a potential Rwandan contingent and the SADC, will likely lead to conflicting priorities and friction at the military command level, hindering the overall.”     \\n    Attacks by an armed group known locally as al-Shabab, whose origins, analysts say, are steeped in local political, religious and economic discontent, have steadily increased in the Cabo Delgado province since October 2017. The sophistication of the attacks has increased, too. The fighters linked to ISIL (ISIS) have ransacked towns and gained control of key roadways, destroying infrastructure and beheading civilians. In some cases, they have forced locals into their ranks or held them as sex slaves. Since August 2020, the fighters have been in control of the key port town of Mocimboa da Praia, while in March, they launched a coordinated assault on Palma town, killing dozens and displacing tens of thousands, while also forcing the French energy firm Total to suspend its $20bn LNG project. The government has deployed thousands of soldiers to Cabo Delgado to combat the fighters, but analysts have long cautioned that Mozambique’s army has historically been weak, poorly trained and underequipped. The World Food Programme has warned of a growing hunger crisis as nearly one million people need food aid. Follow Al Jazeera English:'}\n"
          ]
        }
      ]
    },
    {
      "cell_type": "code",
      "source": [
        "# Serializing json  \n",
        "with open(\"data.json\", \"w\") as outfile:\n",
        "  json.dump(input_data, outfile, indent = 1) "
      ],
      "metadata": {
        "id": "SM4nluPCZUCA"
      },
      "execution_count": 448,
      "outputs": []
    },
    {
      "cell_type": "code",
      "source": [
        "import nltk\n",
        "\n",
        "nltk.download([    \"names\",\n",
        "     \"stopwords\",\n",
        "     \"state_union\",\n",
        "     \"twitter_samples\",\n",
        "     \"movie_reviews\",\n",
        "     \"averaged_perceptron_tagger\",\n",
        "     \"vader_lexicon\",\n",
        "     \"punkt\",\n",
        "])\n",
        "nltk.download('shakespeare')"
      ],
      "metadata": {
        "colab": {
          "base_uri": "https://localhost:8080/"
        },
        "id": "ADocLn-meHlS",
        "outputId": "e7ff7da6-9a89-4aa9-980b-1474136eae08"
      },
      "execution_count": 449,
      "outputs": [
        {
          "output_type": "stream",
          "name": "stdout",
          "text": [
            "[nltk_data] Downloading package names to /root/nltk_data...\n",
            "[nltk_data]   Package names is already up-to-date!\n",
            "[nltk_data] Downloading package stopwords to /root/nltk_data...\n",
            "[nltk_data]   Package stopwords is already up-to-date!\n",
            "[nltk_data] Downloading package state_union to /root/nltk_data...\n",
            "[nltk_data]   Package state_union is already up-to-date!\n",
            "[nltk_data] Downloading package twitter_samples to /root/nltk_data...\n",
            "[nltk_data]   Package twitter_samples is already up-to-date!\n",
            "[nltk_data] Downloading package movie_reviews to /root/nltk_data...\n",
            "[nltk_data]   Package movie_reviews is already up-to-date!\n",
            "[nltk_data] Downloading package averaged_perceptron_tagger to\n",
            "[nltk_data]     /root/nltk_data...\n",
            "[nltk_data]   Package averaged_perceptron_tagger is already up-to-\n",
            "[nltk_data]       date!\n",
            "[nltk_data] Downloading package vader_lexicon to /root/nltk_data...\n",
            "[nltk_data]   Package vader_lexicon is already up-to-date!\n",
            "[nltk_data] Downloading package punkt to /root/nltk_data...\n",
            "[nltk_data]   Package punkt is already up-to-date!\n",
            "[nltk_data] Downloading package shakespeare to /root/nltk_data...\n",
            "[nltk_data]   Package shakespeare is already up-to-date!\n"
          ]
        },
        {
          "output_type": "execute_result",
          "data": {
            "text/plain": [
              "True"
            ]
          },
          "metadata": {},
          "execution_count": 449
        }
      ]
    },
    {
      "cell_type": "code",
      "source": [
        "# input_data = temp1"
      ],
      "metadata": {
        "id": "IhXAhJrf3pFT"
      },
      "execution_count": 450,
      "outputs": []
    },
    {
      "cell_type": "code",
      "source": [
        "# temp = input_data\n",
        "# temp1 = temp"
      ],
      "metadata": {
        "id": "GkQDJ_2AKqNw"
      },
      "execution_count": 451,
      "outputs": []
    },
    {
      "cell_type": "code",
      "source": [
        "#preprocessing for paragraphs\n",
        "\n",
        "import re\n",
        "\n",
        "stopwords = nltk.corpus.stopwords.words(\"english\") #remove stopwords\n",
        "stopwords.extend([w.lower() for w in nltk.corpus.names.words()]) # remove common nouns \n",
        "\n",
        "for title, paragraph in input_data.items():\n",
        "  \n",
        "  paragraph = paragraph.split()\n",
        "\n",
        "  for para in range(len(paragraph)):\n",
        "\n",
        "#convert all to lower case\n",
        "    paragraph[para] = paragraph[para].lower()\n",
        "\n",
        "# remove urls\n",
        "    paragraph[para] = re.sub(r'^https?:\\/\\/.*[\\r\\n]*', ' ', paragraph[para], flags=re.MULTILINE)\n",
        "    paragraph[para] = re.sub(r'\\\\[a-zA-z]', '', paragraph[para])\n",
        "  \n",
        "# remove html tags\n",
        "    paragraph[para] = BeautifulSoup(paragraph[para]).get_text()\n",
        "\n",
        "# remove non-english characters\n",
        "    paragraph[para] = re.sub(r'[^a-zA-Z]', ' ', paragraph[para])  \n",
        "\n",
        "# remove whitespaces\n",
        "    paragraph[para] = re.sub(' +', ' ', paragraph[para])\n",
        "\n",
        "# remove astopwords and common nouns\n",
        "    if paragraph[para].lower() not in stopwords:\n",
        "      paragraph[para] = paragraph[para]\n",
        "    else:\n",
        "      paragraph[para] = ''\n",
        "\n",
        "# remove whitespaces\n",
        "    paragraph[para] = \"\".join(paragraph[para].split())\n",
        "\n",
        "  paragraph = \" \".join(paragraph)\n",
        "  paragraph =  \" \".join(paragraph.split())\n",
        "  input_data[title] = paragraph\n",
        "\n",
        "print(input_data)"
      ],
      "metadata": {
        "colab": {
          "base_uri": "https://localhost:8080/"
        },
        "id": "MVIKDtVLK5hG",
        "outputId": "c14302c1-c9d3-40d7-933d-9a8984213057"
      },
      "execution_count": 452,
      "outputs": [
        {
          "output_type": "stream",
          "name": "stdout",
          "text": [
            "{'Floods hit South Africa’s KwaZu\\xadlu-Na\\xadtal province again': 'floods happening month torrential rains killed people kwazulu natal province heavy rains south africa forced hundreds people flee homes east coast according officials month worst floods living memory killed floods weekend hit infrastructure roads bridges damaged buildings mainly port city durban capital kwazulunatal province home million people some areas inaccessible become islands stage kwazulunatal premier sihle zikalala said news conference sunday fatalities immediately recorded zikalala added we yet receive full comprehensive report impact latest heavy rains reports come worrying picture however emerging april torrential rain led floods landslides death people kwazulunatal authorities said survivors left without drinking water nearly two weeks repairs still ongoing floods caused damage hundreds millions dollars sunday parts road near umdloti beach resort north durban washed away leaving gaping holes cars balanced edge afp news agency reported the flooding started late yesterday saturday afternoon result collapse road couldnt get out one local resident govender told afp able get emergency services arrived sunday nearly people evacuated resort overnight rescue operations continued sunday emergency services received calls help homes lost power water purification station ethekwini area close durban also damaged said officials south african weather service put alert level highest saturday officials called residents stay home authorities kwazulunatal opened reception centres police firefighters rescue workers ready respond rapidly emergencies army also called reinforcement officials evacuated elderly people several villages monday weather service said conditions improved significantly still expect rains continue parts province follow jazeera english', 'Mozam\\xadbique: Cy\\xadclone Gombe death toll ris\\xades to 53': 'recent years southern africa suffered repeated devastating cyclones scientists believe climate change fuelling intensity tropical cyclone gombe killed least people since hit mozambique week ago sharp rise earlier estimates according national institute disaster management ingc thursday another people injured affected since cyclone swept northern central areas country flooding towns destroying houses initial death toll southern african country estimated seven data showed gombe completely destroyed homes partially destroyed past years southern africa suffered repeated devastating cyclones type used relatively rare scientists believe climate change fuelling intensity via warming indian ocean january tropical killed least people across southern eastern africa follow jazeera english', 'Mozam\\xadbique an\\xadnounces new prime min\\xadis\\xadter af\\xadter cab\\xadi\\xadnet reshuf\\xadfle': 'new ministers named reshuffle president nyusi mozambique president nyusi appointed new prime minister filled several posts including finance minister part cabinet reshuffle statement presidency thursday named adriano afonso maleiane replacement agostinho rosrio prime minister since also named tonela minister economy finance zacarias currently chairman national petroleum instituto inp responsible licensing oil gas projects mineral resources energy minister wednesday nyusi fired six ministers without giving reason seen cabinet reshuffle follow jazeera english', 'Analy\\xadsis: Can African gas re\\xadplace Russ\\xadian sup\\xadplies to Eu\\xadrope?': 'lack infrastructure capacity could hurt continents plan supply gas europe russias stead lagos nigeria february german chancellor scholz announced news conference european superpower halting approval russiaowned nord stream president putin officially sent troops eastern ukraine nord stream bn gas pipeline project owned moscowbacked energy company gazprom runs western siberia germany project built ensure sustainable energy distribution across european union especially gas prices reached record highs europe gets third natural gas russia conflict continues ukraine european gas prices soared likelihood moscow could shut supplies gas widely considered part putins leverage obsession ukraine that european countries pulling stops find contingency supply networks coming weeks fact sources united states already talks qatar supplying gas eu crucial substitute russia however forum gas exporting countries held last week qatar bloc said would unable provide considerable amount replacement gas europe event sanctions russia stressed need significant investment gas infrastructure well longterm contracts guarantee large supply europe led emerging debate whether african countries worlds deepest gas reserves step fill gap demand billion cubic metres annually russia usually supplied europe recently tanzanian president samia suluhu said russian invasion ukraine could prove opportunity gas sales east african country makes efforts secure new energy market outside africa whether africa europe america looking markets said hassan and fortunately working companies europe tanzania sixthlargest gas reserves africa estimated trillion cubic feet billion cubic metres gas reserves says working utilise vast offshore gas resources export europe elsewhere africas largest gas producer similar plans too timipre sylva nigerias junior petroleum minister told press gas exporting countries forum doha we want build pipeline transsahara pipeline going take gas algeria europe nigerias comments buoyed recent signing mou algeria niger republic ongoing construction transsaharan gas pipeline km miles long natural gas pipeline beginning northern nigeria official word pipeline first mooted s completed slated run northern nigeria niger algeria connecting europe eventually still concerns whether african countries become proper stopgap solution natural gas europe tackles russias military onslaught one longterm suppliers experts historic lack investment gas infrastructure hampered energy industry subsaharan africa unlike northern africa instance maghrebeurope gas pipeline algeria africas largest natural gas exporter conveys natural gas morocco spain portugal medgaz pipeline links algeria directly spain experts estimated algeria exported billion cubic feet million cubic metres gas spain billion cubic feet million cubic metres annually that drop due gas production dipping breakdown relations morocco last october algeria announced would immediately begin exporting gas directly spain it important note north africa already established gas export market europe before ukrainian crisis said mabhenaolagunju oil gas lawyer ceo johannesburgbased independent power producer dlo energy resource group the medgaz pipeline capacity enhancements in algeria also expected increase exports europe many african countries massive gas reserves also struggled attract investment build gas infrastructure projects supply european market angola trillion cubic feet billion cubic metres proven gas reserves experienced sharp decline oil gas production last five years due combination technical operational problems well lack upstream investment incentives muhammadu buhari administration announced the decade gas nigerian initiative prioritise gas industry take advantage global transition cleaner fuels part drive commenced construction kmlong bn ajaokutakadunakano natural gas pipeline funding comes loan chinese banks still like many african countries significant investments needed build transregional intercontinental pipelines order open access europe need loads capital nigeria hoping new industry legislation signed last provide new framework cut waste corruption oil sector reshape host community relations ultimately investment nigeria presently top investment destination oil gas industry said nwakwue former chairman society petroleum engineers nigeria exadviser junior petroleum minister this pushed competitive fiscal arrangement bill additionally address infrastructure challenge need open sector private capital said our current oligopoly would suffice nigerian national petroleum corporation lacks capital build required infrastructure using vessels direct transport liquefied natural gas across seas could also put subsaharan african countries prime position become competitive producers exporters mabhenaolagunju told jazeera also existential issues experts african countries fix first ready alternative europe situations urgency mozambique holds roughly trillion cubic feet trillion cubic metres proven natural gas reserves accounting approximately percent worlds total reserves ongoing armed uprising northern mozambican province cabo delgado gasrich area borders tanzania hampered activity planned bn project elsewhere wave security threats armed groups affected oil gas exploration nigerias oilrich niger delta the key factor remains challenge africa reliable lng producer exporter revolves around security supply said mabhenaolagunju whilst lng discoveries mozambique great find also important recognise insecurity leads delays instability supply african countries wing it follow jazeera english', 'Dozens dead from Trop\\xadi\\xadcal Storm Ana in south\\xadern Africa': 'least people killed struck madagascar mozambique malawi authorities scrambling repair damages death toll struck three southern african countries thursday emergency teams battled repair damaged infrastructure help tens thousands victims packing torrential rains tropical made landfall monday madagascar ploughing mozambique malawi rescue workers authorities across three countries still assessing full extent damage madagascar reported dead others killed mozambique malawi remnants passed zimbabwe deaths reported there three hardesthit countries tens thousands homes damaged collapsed heavy rain trapping victims rubble bridges washed away swollen rivers livestock drowned submerged fields destroying livelihoods rural families madagascar flee homes capital antananarivo schools gyms turned emergency shelters we brought important possessions berthine razafiarisoa sheltered gym family told afp news agency northern central mozambique destroyed homes dozens schools hospitals downed power lines mozambiques weather service expects another form indian ocean coming days six tropical cyclones expected rainy season ends march neighbouring malawi government declared state natural disaster country lost electricity early week floodwaters hit generating stations power restored thursday parts country parts electric grid destroyed our priority restoring power health establishments water treatment distribution systems schools national power utility said statement southern africa especially mozambique suffered repeated destructive storms recent years follow jazeera english', 'South\\xadern Africa bloc SADC ex\\xadtends Mozam\\xadbique mis\\xadsion': 'regional body says progress made rebels cabo delgado province since troops deployed last year southern african regional bloc sadc summit extended mandate troop deployment mozambique help country fight armed uprising communique summit showed summit noted good progress made since deployment sadc mission mozambique extended mandate communique wednesday read without saying long extension for sadc nations rwanda resolved last send troops help mozambique respond armed uprising northern province cabo delgado tuesday south african president ramaphosa chairperson sadc organ politics defence security cooperation said deployment sadc mission mozambique samim showing results since deployment significant progress made said ramaphosa opening remarks twoday talks malawian capital lilongwe the security situation cabo delgado improving allowed internally displaced persons return homes resume normal lives said operating alongside mozambican troops regional forces helped create safe passage bringing humanitarian aid violencehit areas said mission initially deployed july mandate extended indefinitely october cabo delgado gasrich province bordering tanzania hit attacks since least people died approximately fled homes atrocities included massacres beheadings torching homes mass abductions particularly girls follow jazeera english', ' From:  Start Here': 'start takes big news stories breaks down world complicated news doesnt be monkeypox worried bad covid north korea know killing palestinian journalist shireen abu akleh sri lanka facing economic ruin political crisis shehbaz sharif replaced imran khan pakistans prime minister war ukraine given nato new purpose happening impact people nato ruling nofly zone ukraine president zelenskyy comedian commanderinchief western sanctions could cripple russias economy russiaukraine crisis got much worse food prices rising going yemen war getting worse johnson trouble follow jazeera english', 'In Mozam\\xadbique, Kagame says Rwan\\xaddan troops’ work not over': 'rwandan president says countrys force help secure rebuild cabo delgado areas destroyed yearslong armed campaign rwandan president kagame arrived mozambique deployed soldiers help local security forces tackle fighters wreaking havoc countrys north attacks armed group known locally alshabab whose origins analysts say steeped local political religious economic discontent steadily increased cabo delgado province since october violence including raiding villages towns killed people half civilians displaced least homes past four years rwanda july first several african countries provide reinforcements mozambiques army overwhelmed worsening conflict gasrich province contingent forces regional bloc southern african development community sadc also patrolling northern cabo delgado kagame landed provincial capital pemba friday morning received mozambican counterpart nyusi two leaders met addressed rwandan troops deployed province president nyusi welcomes president kagame pemba mozambique twoday working visit presidents meet rwandan joint forces working mozambican defence armed forces cabo delgado followed ttette bilateral meetings press conference pictwittercomigfjmrlf presidency rwanda urugwirovillage september joint news conference kagame said rwandan troops would help secure rebuild areas destroyed violence the work hasnt easy kagame told soldiers according posts rwandan presidencys twitter account you done great work alongside mozambican troops sacrificed endured days nights scorching sun heavy rains said the work done far cannot stop here another task continue rebuilding protecting country part nyusi called rwandan troops real heroes adding mozambiques soldiers forever indebted look forward continuing rebuilding lives citizens better foreign forces helped mozambique regain ground cabo delago since fighters linked isil isis launched coordinated assault port palma march offsetting multibilliondollar gas projects raising international concern local officials encouraged civilians return according media reports rwandan militarys spokesman said people brought home it safe go back rwivanga told reuters news agency thursday united nations officials sure document compiled september un agencies aid groups seen reuters said clear whether fighters capabilities much reduced fighting continues certain locations civilian authorities reestablished added jazeeras webb reporting abandoned cabo delgado said remains fighters left behind still visible a lot buildings torched goods shops looted cars set fire well added civilians area really fear fighters armed group notorious beheadings abducting people villages passed along road still completely deserted rwivanga said rwandans moving civilians back area control near bn liquefied natural gas lng project run oil totalenergies forced halt palma attack yet security analysts mozambican military deficiencies allowed armed campaign take hold north including soldiers illequipped undisciplined poorly paid easily reversed even forces there say security uncertain outside small heavily guarded areas mozambican rwandan forces notched victory august drove fighters de facto headquarters port city mocimboa da praia violence continued local people security forces recently reported string attacks quissanga district south mocimba da praia fighters believed fallen back retaken latest occurred thursday evening village lindi two people killed another two people injured unnamed police source quoted saying afp news agency friday adding fighters captured several women girls fighters also ambushed two buses transporting soldiers later night causing least one death traffic police officer told afp attack took place main road closed two years due similar incidents recently reopened following arrival foreign troops total least people killed across several villages quissanga past week another police officer said victims reportedly beheaded follow jazeera english', 'Rwan\\xadda, Mozam\\xadbique forces re\\xadcap\\xadture port city from rebels': 'mocimboa da praia home one africas biggest natural gas projects retaken rebels rwandan army says rwandan forces deployed last month help mozambiques army battle rebels said sunday recaptured control key northern port mocimboa da praia armed group the port city mocimboa da praia stronghold insurgency two years captured rwandan mozambican security forces rwanda defence forces said tweet forces spokesman colonel rwivanga confirmed afp news agency saying yes mocimboa da praia fallen port town first rebel attacks staged october since last year become de facto headquarters rebel armed group locally referred alshabab mocimboa da praia was last stronghold insurgents marking end first phase counterinsurgency operations dislodging insurgents stronghold rwivanga said text message rwanda sent soldiers last month shore mozambican military forces struggling regain control northern cabo delgado province home one africas biggest liquefied natural gas projects forces last week claimed first success since deploying saying helped mozambique army regain control awasse small also strategic settlement near mocimboa da praia follow jazeera english', 'Rwan\\xadda de\\xadploys 1,000 sol\\xaddiers to Mozam\\xadbique’s Cabo Del\\xadga\\xaddo': 'government kigali says deployment request mozambican authorities aimed restoring state control conflicthit province rwanda started deploying strong forces mozambique help combat worsening violence gasrich northern cabo delgado province announcement came friday member southern african development community sadc approved last month deployment joint forces help mozambique respond nearly fouryearold conflict killed people displaced almost half children soldiers rwanda member sadc would fight alongside mozambiques forces sadc troops rwandan government said statement the rwandan contingent support efforts restore mozambican state authority conducting combat security operations well stabilisation securitysector reform added rwanda deploys joint force mozambique read full statement background here pictwittercomjexdejubeb government rwanda rwandagov july rwandan defence forces spokesman rwivanga told reuters news agency new forces would deployed full saturday said rwandan contingent made members police force troops trained to deal terrorism securityrelated issues cabo delgado alexandre raymakers africa analyst united kingdombased global risk consultancy verisk maplecroft said believes rwandan contingent could used secure key liquefied natural gas lng sites effort lure back international investors the rwandan security forces developed reputation highly capable fighting force said but added the presence multiple military missions form potential rwandan contingent sadc likely lead conflicting priorities friction military command level hindering overall attacks armed group known locally alshabab whose origins analysts say steeped local political religious economic discontent steadily increased cabo delgado province since october sophistication attacks increased too fighters linked isil isis ransacked towns gained control key roadways destroying infrastructure beheading civilians cases forced locals ranks held sex slaves since fighters control key port mocimboa da praia march launched coordinated assault palma town killing dozens displacing tens thousands also forcing energy firm total suspend bn lng project government deployed thousands soldiers cabo delgado combat fighters analysts long cautioned mozambiques army historically weak poorly trained underequipped world food programme warned growing hunger crisis nearly one million people need food aid follow jazeera english'}\n"
          ]
        }
      ]
    },
    {
      "cell_type": "code",
      "source": [
        "#preprocessing for articles\n",
        "\n",
        "input_data_temp = {}\n",
        "import re\n",
        "\n",
        "stopwords = nltk.corpus.stopwords.words(\"english\") #remove stopwords\n",
        "stopwords.extend([w.lower() for w in nltk.corpus.names.words()]) # remove common nouns \n",
        "\n",
        "for title, paragraph in input_data.items():\n",
        "  \n",
        "  title = title.split()\n",
        "\n",
        "  for para in range(len(title)):\n",
        "\n",
        "#convert all to lower case\n",
        "    title[para] = title[para].lower()\n",
        "\n",
        "# remove urls\n",
        "    title[para] = re.sub(r'^https?:\\/\\/.*[\\r\\n]*', ' ', title[para], flags=re.MULTILINE)\n",
        "    title[para] = re.sub(r'\\\\[a-zA-z]', '', title[para])\n",
        "  \n",
        "# remove html tags\n",
        "    title[para] = BeautifulSoup(title[para]).get_text()\n",
        "\n",
        "# remove non-english characters\n",
        "    title[para] = re.sub(r'[^a-zA-Z]', ' ', title[para])  \n",
        "\n",
        "# remove whitespaces\n",
        "    title[para] = re.sub(' +', ' ', title[para])\n",
        "\n",
        "# # remove astopwords and common nouns\n",
        "#     if title[para].lower() not in stopwords:\n",
        "#       title[para] = title[para]\n",
        "#     else:\n",
        "#       title[para] = ''\n",
        "\n",
        "# remove whitespaces\n",
        "    title[para] = \"\".join(title[para].split())\n",
        "\n",
        "  title = \" \".join(title)\n",
        "  title =  \" \".join(title.split())\n",
        "  input_data_temp[title] = paragraph\n",
        "\n",
        "input_data = input_data_temp\n",
        "print(input_data)"
      ],
      "metadata": {
        "colab": {
          "base_uri": "https://localhost:8080/"
        },
        "id": "AOATxRA2zDOZ",
        "outputId": "2211b172-c848-4d38-9f7d-ca4f0a02b072"
      },
      "execution_count": 453,
      "outputs": [
        {
          "output_type": "stream",
          "name": "stdout",
          "text": [
            "{'floods hit south africas kwazulunatal province again': 'floods happening month torrential rains killed people kwazulu natal province heavy rains south africa forced hundreds people flee homes east coast according officials month worst floods living memory killed floods weekend hit infrastructure roads bridges damaged buildings mainly port city durban capital kwazulunatal province home million people some areas inaccessible become islands stage kwazulunatal premier sihle zikalala said news conference sunday fatalities immediately recorded zikalala added we yet receive full comprehensive report impact latest heavy rains reports come worrying picture however emerging april torrential rain led floods landslides death people kwazulunatal authorities said survivors left without drinking water nearly two weeks repairs still ongoing floods caused damage hundreds millions dollars sunday parts road near umdloti beach resort north durban washed away leaving gaping holes cars balanced edge afp news agency reported the flooding started late yesterday saturday afternoon result collapse road couldnt get out one local resident govender told afp able get emergency services arrived sunday nearly people evacuated resort overnight rescue operations continued sunday emergency services received calls help homes lost power water purification station ethekwini area close durban also damaged said officials south african weather service put alert level highest saturday officials called residents stay home authorities kwazulunatal opened reception centres police firefighters rescue workers ready respond rapidly emergencies army also called reinforcement officials evacuated elderly people several villages monday weather service said conditions improved significantly still expect rains continue parts province follow jazeera english', 'mozambique cyclone gombe death toll rises to': 'recent years southern africa suffered repeated devastating cyclones scientists believe climate change fuelling intensity tropical cyclone gombe killed least people since hit mozambique week ago sharp rise earlier estimates according national institute disaster management ingc thursday another people injured affected since cyclone swept northern central areas country flooding towns destroying houses initial death toll southern african country estimated seven data showed gombe completely destroyed homes partially destroyed past years southern africa suffered repeated devastating cyclones type used relatively rare scientists believe climate change fuelling intensity via warming indian ocean january tropical killed least people across southern eastern africa follow jazeera english', 'mozambique announces new prime minister after cabinet reshuffle': 'new ministers named reshuffle president nyusi mozambique president nyusi appointed new prime minister filled several posts including finance minister part cabinet reshuffle statement presidency thursday named adriano afonso maleiane replacement agostinho rosrio prime minister since also named tonela minister economy finance zacarias currently chairman national petroleum instituto inp responsible licensing oil gas projects mineral resources energy minister wednesday nyusi fired six ministers without giving reason seen cabinet reshuffle follow jazeera english', 'analysis can african gas replace russian supplies to europe': 'lack infrastructure capacity could hurt continents plan supply gas europe russias stead lagos nigeria february german chancellor scholz announced news conference european superpower halting approval russiaowned nord stream president putin officially sent troops eastern ukraine nord stream bn gas pipeline project owned moscowbacked energy company gazprom runs western siberia germany project built ensure sustainable energy distribution across european union especially gas prices reached record highs europe gets third natural gas russia conflict continues ukraine european gas prices soared likelihood moscow could shut supplies gas widely considered part putins leverage obsession ukraine that european countries pulling stops find contingency supply networks coming weeks fact sources united states already talks qatar supplying gas eu crucial substitute russia however forum gas exporting countries held last week qatar bloc said would unable provide considerable amount replacement gas europe event sanctions russia stressed need significant investment gas infrastructure well longterm contracts guarantee large supply europe led emerging debate whether african countries worlds deepest gas reserves step fill gap demand billion cubic metres annually russia usually supplied europe recently tanzanian president samia suluhu said russian invasion ukraine could prove opportunity gas sales east african country makes efforts secure new energy market outside africa whether africa europe america looking markets said hassan and fortunately working companies europe tanzania sixthlargest gas reserves africa estimated trillion cubic feet billion cubic metres gas reserves says working utilise vast offshore gas resources export europe elsewhere africas largest gas producer similar plans too timipre sylva nigerias junior petroleum minister told press gas exporting countries forum doha we want build pipeline transsahara pipeline going take gas algeria europe nigerias comments buoyed recent signing mou algeria niger republic ongoing construction transsaharan gas pipeline km miles long natural gas pipeline beginning northern nigeria official word pipeline first mooted s completed slated run northern nigeria niger algeria connecting europe eventually still concerns whether african countries become proper stopgap solution natural gas europe tackles russias military onslaught one longterm suppliers experts historic lack investment gas infrastructure hampered energy industry subsaharan africa unlike northern africa instance maghrebeurope gas pipeline algeria africas largest natural gas exporter conveys natural gas morocco spain portugal medgaz pipeline links algeria directly spain experts estimated algeria exported billion cubic feet million cubic metres gas spain billion cubic feet million cubic metres annually that drop due gas production dipping breakdown relations morocco last october algeria announced would immediately begin exporting gas directly spain it important note north africa already established gas export market europe before ukrainian crisis said mabhenaolagunju oil gas lawyer ceo johannesburgbased independent power producer dlo energy resource group the medgaz pipeline capacity enhancements in algeria also expected increase exports europe many african countries massive gas reserves also struggled attract investment build gas infrastructure projects supply european market angola trillion cubic feet billion cubic metres proven gas reserves experienced sharp decline oil gas production last five years due combination technical operational problems well lack upstream investment incentives muhammadu buhari administration announced the decade gas nigerian initiative prioritise gas industry take advantage global transition cleaner fuels part drive commenced construction kmlong bn ajaokutakadunakano natural gas pipeline funding comes loan chinese banks still like many african countries significant investments needed build transregional intercontinental pipelines order open access europe need loads capital nigeria hoping new industry legislation signed last provide new framework cut waste corruption oil sector reshape host community relations ultimately investment nigeria presently top investment destination oil gas industry said nwakwue former chairman society petroleum engineers nigeria exadviser junior petroleum minister this pushed competitive fiscal arrangement bill additionally address infrastructure challenge need open sector private capital said our current oligopoly would suffice nigerian national petroleum corporation lacks capital build required infrastructure using vessels direct transport liquefied natural gas across seas could also put subsaharan african countries prime position become competitive producers exporters mabhenaolagunju told jazeera also existential issues experts african countries fix first ready alternative europe situations urgency mozambique holds roughly trillion cubic feet trillion cubic metres proven natural gas reserves accounting approximately percent worlds total reserves ongoing armed uprising northern mozambican province cabo delgado gasrich area borders tanzania hampered activity planned bn project elsewhere wave security threats armed groups affected oil gas exploration nigerias oilrich niger delta the key factor remains challenge africa reliable lng producer exporter revolves around security supply said mabhenaolagunju whilst lng discoveries mozambique great find also important recognise insecurity leads delays instability supply african countries wing it follow jazeera english', 'dozens dead from tropical storm ana in southern africa': 'least people killed struck madagascar mozambique malawi authorities scrambling repair damages death toll struck three southern african countries thursday emergency teams battled repair damaged infrastructure help tens thousands victims packing torrential rains tropical made landfall monday madagascar ploughing mozambique malawi rescue workers authorities across three countries still assessing full extent damage madagascar reported dead others killed mozambique malawi remnants passed zimbabwe deaths reported there three hardesthit countries tens thousands homes damaged collapsed heavy rain trapping victims rubble bridges washed away swollen rivers livestock drowned submerged fields destroying livelihoods rural families madagascar flee homes capital antananarivo schools gyms turned emergency shelters we brought important possessions berthine razafiarisoa sheltered gym family told afp news agency northern central mozambique destroyed homes dozens schools hospitals downed power lines mozambiques weather service expects another form indian ocean coming days six tropical cyclones expected rainy season ends march neighbouring malawi government declared state natural disaster country lost electricity early week floodwaters hit generating stations power restored thursday parts country parts electric grid destroyed our priority restoring power health establishments water treatment distribution systems schools national power utility said statement southern africa especially mozambique suffered repeated destructive storms recent years follow jazeera english', 'southern africa bloc sadc extends mozambique mission': 'regional body says progress made rebels cabo delgado province since troops deployed last year southern african regional bloc sadc summit extended mandate troop deployment mozambique help country fight armed uprising communique summit showed summit noted good progress made since deployment sadc mission mozambique extended mandate communique wednesday read without saying long extension for sadc nations rwanda resolved last send troops help mozambique respond armed uprising northern province cabo delgado tuesday south african president ramaphosa chairperson sadc organ politics defence security cooperation said deployment sadc mission mozambique samim showing results since deployment significant progress made said ramaphosa opening remarks twoday talks malawian capital lilongwe the security situation cabo delgado improving allowed internally displaced persons return homes resume normal lives said operating alongside mozambican troops regional forces helped create safe passage bringing humanitarian aid violencehit areas said mission initially deployed july mandate extended indefinitely october cabo delgado gasrich province bordering tanzania hit attacks since least people died approximately fled homes atrocities included massacres beheadings torching homes mass abductions particularly girls follow jazeera english', 'from start here': 'start takes big news stories breaks down world complicated news doesnt be monkeypox worried bad covid north korea know killing palestinian journalist shireen abu akleh sri lanka facing economic ruin political crisis shehbaz sharif replaced imran khan pakistans prime minister war ukraine given nato new purpose happening impact people nato ruling nofly zone ukraine president zelenskyy comedian commanderinchief western sanctions could cripple russias economy russiaukraine crisis got much worse food prices rising going yemen war getting worse johnson trouble follow jazeera english', 'in mozambique kagame says rwandan troops work not over': 'rwandan president says countrys force help secure rebuild cabo delgado areas destroyed yearslong armed campaign rwandan president kagame arrived mozambique deployed soldiers help local security forces tackle fighters wreaking havoc countrys north attacks armed group known locally alshabab whose origins analysts say steeped local political religious economic discontent steadily increased cabo delgado province since october violence including raiding villages towns killed people half civilians displaced least homes past four years rwanda july first several african countries provide reinforcements mozambiques army overwhelmed worsening conflict gasrich province contingent forces regional bloc southern african development community sadc also patrolling northern cabo delgado kagame landed provincial capital pemba friday morning received mozambican counterpart nyusi two leaders met addressed rwandan troops deployed province president nyusi welcomes president kagame pemba mozambique twoday working visit presidents meet rwandan joint forces working mozambican defence armed forces cabo delgado followed ttette bilateral meetings press conference pictwittercomigfjmrlf presidency rwanda urugwirovillage september joint news conference kagame said rwandan troops would help secure rebuild areas destroyed violence the work hasnt easy kagame told soldiers according posts rwandan presidencys twitter account you done great work alongside mozambican troops sacrificed endured days nights scorching sun heavy rains said the work done far cannot stop here another task continue rebuilding protecting country part nyusi called rwandan troops real heroes adding mozambiques soldiers forever indebted look forward continuing rebuilding lives citizens better foreign forces helped mozambique regain ground cabo delago since fighters linked isil isis launched coordinated assault port palma march offsetting multibilliondollar gas projects raising international concern local officials encouraged civilians return according media reports rwandan militarys spokesman said people brought home it safe go back rwivanga told reuters news agency thursday united nations officials sure document compiled september un agencies aid groups seen reuters said clear whether fighters capabilities much reduced fighting continues certain locations civilian authorities reestablished added jazeeras webb reporting abandoned cabo delgado said remains fighters left behind still visible a lot buildings torched goods shops looted cars set fire well added civilians area really fear fighters armed group notorious beheadings abducting people villages passed along road still completely deserted rwivanga said rwandans moving civilians back area control near bn liquefied natural gas lng project run oil totalenergies forced halt palma attack yet security analysts mozambican military deficiencies allowed armed campaign take hold north including soldiers illequipped undisciplined poorly paid easily reversed even forces there say security uncertain outside small heavily guarded areas mozambican rwandan forces notched victory august drove fighters de facto headquarters port city mocimboa da praia violence continued local people security forces recently reported string attacks quissanga district south mocimba da praia fighters believed fallen back retaken latest occurred thursday evening village lindi two people killed another two people injured unnamed police source quoted saying afp news agency friday adding fighters captured several women girls fighters also ambushed two buses transporting soldiers later night causing least one death traffic police officer told afp attack took place main road closed two years due similar incidents recently reopened following arrival foreign troops total least people killed across several villages quissanga past week another police officer said victims reportedly beheaded follow jazeera english', 'rwanda mozambique forces recapture port city from rebels': 'mocimboa da praia home one africas biggest natural gas projects retaken rebels rwandan army says rwandan forces deployed last month help mozambiques army battle rebels said sunday recaptured control key northern port mocimboa da praia armed group the port city mocimboa da praia stronghold insurgency two years captured rwandan mozambican security forces rwanda defence forces said tweet forces spokesman colonel rwivanga confirmed afp news agency saying yes mocimboa da praia fallen port town first rebel attacks staged october since last year become de facto headquarters rebel armed group locally referred alshabab mocimboa da praia was last stronghold insurgents marking end first phase counterinsurgency operations dislodging insurgents stronghold rwivanga said text message rwanda sent soldiers last month shore mozambican military forces struggling regain control northern cabo delgado province home one africas biggest liquefied natural gas projects forces last week claimed first success since deploying saying helped mozambique army regain control awasse small also strategic settlement near mocimboa da praia follow jazeera english', 'rwanda deploys soldiers to mozambiques cabo delgado': 'government kigali says deployment request mozambican authorities aimed restoring state control conflicthit province rwanda started deploying strong forces mozambique help combat worsening violence gasrich northern cabo delgado province announcement came friday member southern african development community sadc approved last month deployment joint forces help mozambique respond nearly fouryearold conflict killed people displaced almost half children soldiers rwanda member sadc would fight alongside mozambiques forces sadc troops rwandan government said statement the rwandan contingent support efforts restore mozambican state authority conducting combat security operations well stabilisation securitysector reform added rwanda deploys joint force mozambique read full statement background here pictwittercomjexdejubeb government rwanda rwandagov july rwandan defence forces spokesman rwivanga told reuters news agency new forces would deployed full saturday said rwandan contingent made members police force troops trained to deal terrorism securityrelated issues cabo delgado alexandre raymakers africa analyst united kingdombased global risk consultancy verisk maplecroft said believes rwandan contingent could used secure key liquefied natural gas lng sites effort lure back international investors the rwandan security forces developed reputation highly capable fighting force said but added the presence multiple military missions form potential rwandan contingent sadc likely lead conflicting priorities friction military command level hindering overall attacks armed group known locally alshabab whose origins analysts say steeped local political religious economic discontent steadily increased cabo delgado province since october sophistication attacks increased too fighters linked isil isis ransacked towns gained control key roadways destroying infrastructure beheading civilians cases forced locals ranks held sex slaves since fighters control key port mocimboa da praia march launched coordinated assault palma town killing dozens displacing tens thousands also forcing energy firm total suspend bn lng project government deployed thousands soldiers cabo delgado combat fighters analysts long cautioned mozambiques army historically weak poorly trained underequipped world food programme warned growing hunger crisis nearly one million people need food aid follow jazeera english'}\n"
          ]
        }
      ]
    },
    {
      "cell_type": "code",
      "source": [
        "# scores based on article paragraphs\n",
        "\n",
        "from nltk.sentiment import SentimentIntensityAnalyzer\n",
        "\n",
        "sia = SentimentIntensityAnalyzer()\n",
        "\n",
        "for article_title, article_paragraph in input_data.items():\n",
        "  print(\"The score for \\\"{}\\\".... article paragraph is: {}, \\n\".format(\" \".join(article_paragraph.split()[:10]), sia.polarity_scores(article_paragraph)))"
      ],
      "metadata": {
        "colab": {
          "base_uri": "https://localhost:8080/"
        },
        "id": "Z6H0GiQfsTCI",
        "outputId": "76bc195b-3751-4be9-abdb-49099ca6909e"
      },
      "execution_count": 467,
      "outputs": [
        {
          "output_type": "stream",
          "name": "stdout",
          "text": [
            "The score for \"floods happening month torrential rains killed people kwazulu natal province\".... article paragraph is: {'neg': 0.164, 'neu': 0.768, 'pos': 0.068, 'compound': -0.9816}, \n",
            "\n",
            "The score for \"recent years southern africa suffered repeated devastating cyclones scientists believe\".... article paragraph is: {'neg': 0.346, 'neu': 0.642, 'pos': 0.012, 'compound': -0.9933}, \n",
            "\n",
            "The score for \"new ministers named reshuffle president nyusi mozambique president nyusi appointed\".... article paragraph is: {'neg': 0.073, 'neu': 0.87, 'pos': 0.057, 'compound': -0.304}, \n",
            "\n",
            "The score for \"lack infrastructure capacity could hurt continents plan supply gas europe\".... article paragraph is: {'neg': 0.054, 'neu': 0.822, 'pos': 0.123, 'compound': 0.9913}, \n",
            "\n",
            "The score for \"least people killed struck madagascar mozambique malawi authorities scrambling repair\".... article paragraph is: {'neg': 0.297, 'neu': 0.638, 'pos': 0.065, 'compound': -0.9957}, \n",
            "\n",
            "The score for \"regional body says progress made rebels cabo delgado province since\".... article paragraph is: {'neg': 0.069, 'neu': 0.76, 'pos': 0.171, 'compound': 0.946}, \n",
            "\n",
            "The score for \"start takes big news stories breaks down world complicated news\".... article paragraph is: {'neg': 0.329, 'neu': 0.63, 'pos': 0.04, 'compound': -0.9873}, \n",
            "\n",
            "The score for \"rwandan president says countrys force help secure rebuild cabo delgado\".... article paragraph is: {'neg': 0.163, 'neu': 0.732, 'pos': 0.106, 'compound': -0.9887}, \n",
            "\n",
            "The score for \"mocimboa da praia home one africas biggest natural gas projects\".... article paragraph is: {'neg': 0.096, 'neu': 0.781, 'pos': 0.122, 'compound': 0.5859}, \n",
            "\n",
            "The score for \"government kigali says deployment request mozambican authorities aimed restoring state\".... article paragraph is: {'neg': 0.2, 'neu': 0.688, 'pos': 0.111, 'compound': -0.9915}, \n",
            "\n"
          ]
        }
      ]
    },
    {
      "cell_type": "code",
      "source": [
        "# scores based on article titles\n",
        "\n",
        "# scores based on article paragraphs\n",
        "\n",
        "from nltk.sentiment import SentimentIntensityAnalyzer\n",
        "\n",
        "sia = SentimentIntensityAnalyzer()\n",
        "\n",
        "for article_title, article_para in input_data.items():\n",
        "  print(\"The score for \\\"{}\\\" article is: {}, \\n\".format(article_title, sia.polarity_scores(article_title)))"
      ],
      "metadata": {
        "colab": {
          "base_uri": "https://localhost:8080/"
        },
        "id": "eG-NHjptskYO",
        "outputId": "6cbadccd-ea2e-4b60-c224-b2ea59bbe393"
      },
      "execution_count": 455,
      "outputs": [
        {
          "output_type": "stream",
          "name": "stdout",
          "text": [
            "The score for \"floods hit south africas kwazulunatal province again\" article is: {'neg': 0.0, 'neu': 1.0, 'pos': 0.0, 'compound': 0.0}, \n",
            "\n",
            "The score for \"mozambique cyclone gombe death toll rises to\" article is: {'neg': 0.394, 'neu': 0.606, 'pos': 0.0, 'compound': -0.5994}, \n",
            "\n",
            "The score for \"mozambique announces new prime minister after cabinet reshuffle\" article is: {'neg': 0.0, 'neu': 1.0, 'pos': 0.0, 'compound': 0.0}, \n",
            "\n",
            "The score for \"analysis can african gas replace russian supplies to europe\" article is: {'neg': 0.0, 'neu': 1.0, 'pos': 0.0, 'compound': 0.0}, \n",
            "\n",
            "The score for \"dozens dead from tropical storm ana in southern africa\" article is: {'neg': 0.35, 'neu': 0.65, 'pos': 0.0, 'compound': -0.6486}, \n",
            "\n",
            "The score for \"southern africa bloc sadc extends mozambique mission\" article is: {'neg': 0.0, 'neu': 0.8, 'pos': 0.2, 'compound': 0.128}, \n",
            "\n",
            "The score for \"from start here\" article is: {'neg': 0.0, 'neu': 1.0, 'pos': 0.0, 'compound': 0.0}, \n",
            "\n",
            "The score for \"in mozambique kagame says rwandan troops work not over\" article is: {'neg': 0.0, 'neu': 1.0, 'pos': 0.0, 'compound': 0.0}, \n",
            "\n",
            "The score for \"rwanda mozambique forces recapture port city from rebels\" article is: {'neg': 0.205, 'neu': 0.795, 'pos': 0.0, 'compound': -0.2023}, \n",
            "\n",
            "The score for \"rwanda deploys soldiers to mozambiques cabo delgado\" article is: {'neg': 0.0, 'neu': 1.0, 'pos': 0.0, 'compound': 0.0}, \n",
            "\n"
          ]
        }
      ]
    },
    {
      "cell_type": "code",
      "source": [
        "from nltk.sentiment.vader import SentimentIntensityAnalyzer as SIA\n",
        "from pprint import pprint\n",
        "\n",
        "sia = SIA()\n",
        "results = []\n",
        "\n",
        "for title, paragraph in input_data.items():\n",
        "    pol_score = sia.polarity_scores(paragraph)\n",
        "    pol_score['headline'] = title\n",
        "    results.append(pol_score)\n",
        "\n",
        "pprint(results[:], width=100)\n",
        "\n",
        "# Graph\n",
        "\n",
        "import plotly.express as px\n",
        "import pandas\n",
        "df = pd.DataFrame.from_dict(results)\n",
        "df.drop(\"compound\", axis = 1, inplace = True)\n",
        "df\n",
        "fig = px.histogram(df,\n",
        "                   x='headline',\n",
        "                   title='Sentiment Score of News Articles by PARAGRAPH',\n",
        "                   y= ['neg', 'neu','pos'],\n",
        "                   barmode='group',\n",
        "                  color_discrete_sequence=[\"red\", \"blue\", \"green\"])\n",
        "fig.update_xaxes( title='Article Title').update_yaxes(title='Sentiment score')\n",
        "fig.show()"
      ],
      "metadata": {
        "colab": {
          "base_uri": "https://localhost:8080/",
          "height": 1000
        },
        "id": "P3yqCRARxnoa",
        "outputId": "1daa7a29-acb6-435e-df4a-b19aef35a56e"
      },
      "execution_count": 468,
      "outputs": [
        {
          "output_type": "stream",
          "name": "stdout",
          "text": [
            "[{'compound': -0.9816,\n",
            "  'headline': 'floods hit south africas kwazulunatal province again',\n",
            "  'neg': 0.164,\n",
            "  'neu': 0.768,\n",
            "  'pos': 0.068},\n",
            " {'compound': -0.9933,\n",
            "  'headline': 'mozambique cyclone gombe death toll rises to',\n",
            "  'neg': 0.346,\n",
            "  'neu': 0.642,\n",
            "  'pos': 0.012},\n",
            " {'compound': -0.304,\n",
            "  'headline': 'mozambique announces new prime minister after cabinet reshuffle',\n",
            "  'neg': 0.073,\n",
            "  'neu': 0.87,\n",
            "  'pos': 0.057},\n",
            " {'compound': 0.9913,\n",
            "  'headline': 'analysis can african gas replace russian supplies to europe',\n",
            "  'neg': 0.054,\n",
            "  'neu': 0.822,\n",
            "  'pos': 0.123},\n",
            " {'compound': -0.9957,\n",
            "  'headline': 'dozens dead from tropical storm ana in southern africa',\n",
            "  'neg': 0.297,\n",
            "  'neu': 0.638,\n",
            "  'pos': 0.065},\n",
            " {'compound': 0.946,\n",
            "  'headline': 'southern africa bloc sadc extends mozambique mission',\n",
            "  'neg': 0.069,\n",
            "  'neu': 0.76,\n",
            "  'pos': 0.171},\n",
            " {'compound': -0.9873, 'headline': 'from start here', 'neg': 0.329, 'neu': 0.63, 'pos': 0.04},\n",
            " {'compound': -0.9887,\n",
            "  'headline': 'in mozambique kagame says rwandan troops work not over',\n",
            "  'neg': 0.163,\n",
            "  'neu': 0.732,\n",
            "  'pos': 0.106},\n",
            " {'compound': 0.5859,\n",
            "  'headline': 'rwanda mozambique forces recapture port city from rebels',\n",
            "  'neg': 0.096,\n",
            "  'neu': 0.781,\n",
            "  'pos': 0.122},\n",
            " {'compound': -0.9915,\n",
            "  'headline': 'rwanda deploys soldiers to mozambiques cabo delgado',\n",
            "  'neg': 0.2,\n",
            "  'neu': 0.688,\n",
            "  'pos': 0.111}]\n"
          ]
        },
        {
          "output_type": "display_data",
          "data": {
            "text/html": [
              "<html>\n",
              "<head><meta charset=\"utf-8\" /></head>\n",
              "<body>\n",
              "    <div>            <script src=\"https://cdnjs.cloudflare.com/ajax/libs/mathjax/2.7.5/MathJax.js?config=TeX-AMS-MML_SVG\"></script><script type=\"text/javascript\">if (window.MathJax) {MathJax.Hub.Config({SVG: {font: \"STIX-Web\"}});}</script>                <script type=\"text/javascript\">window.PlotlyConfig = {MathJaxConfig: 'local'};</script>\n",
              "        <script src=\"https://cdn.plot.ly/plotly-2.8.3.min.js\"></script>                <div id=\"a48fafbf-2a4c-4bbf-85d3-795c3ac70462\" class=\"plotly-graph-div\" style=\"height:525px; width:100%;\"></div>            <script type=\"text/javascript\">                                    window.PLOTLYENV=window.PLOTLYENV || {};                                    if (document.getElementById(\"a48fafbf-2a4c-4bbf-85d3-795c3ac70462\")) {                    Plotly.newPlot(                        \"a48fafbf-2a4c-4bbf-85d3-795c3ac70462\",                        [{\"alignmentgroup\":\"True\",\"bingroup\":\"x\",\"histfunc\":\"sum\",\"hovertemplate\":\"variable=neg<br>headline=%{x}<br>sum of value=%{y}<extra></extra>\",\"legendgroup\":\"neg\",\"marker\":{\"color\":\"red\",\"pattern\":{\"shape\":\"\"}},\"name\":\"neg\",\"offsetgroup\":\"neg\",\"orientation\":\"v\",\"showlegend\":true,\"x\":[\"floods hit south africas kwazulunatal province again\",\"mozambique cyclone gombe death toll rises to\",\"mozambique announces new prime minister after cabinet reshuffle\",\"analysis can african gas replace russian supplies to europe\",\"dozens dead from tropical storm ana in southern africa\",\"southern africa bloc sadc extends mozambique mission\",\"from start here\",\"in mozambique kagame says rwandan troops work not over\",\"rwanda mozambique forces recapture port city from rebels\",\"rwanda deploys soldiers to mozambiques cabo delgado\"],\"xaxis\":\"x\",\"y\":[0.164,0.346,0.073,0.054,0.297,0.069,0.329,0.163,0.096,0.2],\"yaxis\":\"y\",\"type\":\"histogram\"},{\"alignmentgroup\":\"True\",\"bingroup\":\"x\",\"histfunc\":\"sum\",\"hovertemplate\":\"variable=neu<br>headline=%{x}<br>sum of value=%{y}<extra></extra>\",\"legendgroup\":\"neu\",\"marker\":{\"color\":\"blue\",\"pattern\":{\"shape\":\"\"}},\"name\":\"neu\",\"offsetgroup\":\"neu\",\"orientation\":\"v\",\"showlegend\":true,\"x\":[\"floods hit south africas kwazulunatal province again\",\"mozambique cyclone gombe death toll rises to\",\"mozambique announces new prime minister after cabinet reshuffle\",\"analysis can african gas replace russian supplies to europe\",\"dozens dead from tropical storm ana in southern africa\",\"southern africa bloc sadc extends mozambique mission\",\"from start here\",\"in mozambique kagame says rwandan troops work not over\",\"rwanda mozambique forces recapture port city from rebels\",\"rwanda deploys soldiers to mozambiques cabo delgado\"],\"xaxis\":\"x\",\"y\":[0.768,0.642,0.87,0.822,0.638,0.76,0.63,0.732,0.781,0.688],\"yaxis\":\"y\",\"type\":\"histogram\"},{\"alignmentgroup\":\"True\",\"bingroup\":\"x\",\"histfunc\":\"sum\",\"hovertemplate\":\"variable=pos<br>headline=%{x}<br>sum of value=%{y}<extra></extra>\",\"legendgroup\":\"pos\",\"marker\":{\"color\":\"green\",\"pattern\":{\"shape\":\"\"}},\"name\":\"pos\",\"offsetgroup\":\"pos\",\"orientation\":\"v\",\"showlegend\":true,\"x\":[\"floods hit south africas kwazulunatal province again\",\"mozambique cyclone gombe death toll rises to\",\"mozambique announces new prime minister after cabinet reshuffle\",\"analysis can african gas replace russian supplies to europe\",\"dozens dead from tropical storm ana in southern africa\",\"southern africa bloc sadc extends mozambique mission\",\"from start here\",\"in mozambique kagame says rwandan troops work not over\",\"rwanda mozambique forces recapture port city from rebels\",\"rwanda deploys soldiers to mozambiques cabo delgado\"],\"xaxis\":\"x\",\"y\":[0.068,0.012,0.057,0.123,0.065,0.171,0.04,0.106,0.122,0.111],\"yaxis\":\"y\",\"type\":\"histogram\"}],                        {\"template\":{\"data\":{\"bar\":[{\"error_x\":{\"color\":\"#2a3f5f\"},\"error_y\":{\"color\":\"#2a3f5f\"},\"marker\":{\"line\":{\"color\":\"#E5ECF6\",\"width\":0.5},\"pattern\":{\"fillmode\":\"overlay\",\"size\":10,\"solidity\":0.2}},\"type\":\"bar\"}],\"barpolar\":[{\"marker\":{\"line\":{\"color\":\"#E5ECF6\",\"width\":0.5},\"pattern\":{\"fillmode\":\"overlay\",\"size\":10,\"solidity\":0.2}},\"type\":\"barpolar\"}],\"carpet\":[{\"aaxis\":{\"endlinecolor\":\"#2a3f5f\",\"gridcolor\":\"white\",\"linecolor\":\"white\",\"minorgridcolor\":\"white\",\"startlinecolor\":\"#2a3f5f\"},\"baxis\":{\"endlinecolor\":\"#2a3f5f\",\"gridcolor\":\"white\",\"linecolor\":\"white\",\"minorgridcolor\":\"white\",\"startlinecolor\":\"#2a3f5f\"},\"type\":\"carpet\"}],\"choropleth\":[{\"colorbar\":{\"outlinewidth\":0,\"ticks\":\"\"},\"type\":\"choropleth\"}],\"contour\":[{\"colorbar\":{\"outlinewidth\":0,\"ticks\":\"\"},\"colorscale\":[[0.0,\"#0d0887\"],[0.1111111111111111,\"#46039f\"],[0.2222222222222222,\"#7201a8\"],[0.3333333333333333,\"#9c179e\"],[0.4444444444444444,\"#bd3786\"],[0.5555555555555556,\"#d8576b\"],[0.6666666666666666,\"#ed7953\"],[0.7777777777777778,\"#fb9f3a\"],[0.8888888888888888,\"#fdca26\"],[1.0,\"#f0f921\"]],\"type\":\"contour\"}],\"contourcarpet\":[{\"colorbar\":{\"outlinewidth\":0,\"ticks\":\"\"},\"type\":\"contourcarpet\"}],\"heatmap\":[{\"colorbar\":{\"outlinewidth\":0,\"ticks\":\"\"},\"colorscale\":[[0.0,\"#0d0887\"],[0.1111111111111111,\"#46039f\"],[0.2222222222222222,\"#7201a8\"],[0.3333333333333333,\"#9c179e\"],[0.4444444444444444,\"#bd3786\"],[0.5555555555555556,\"#d8576b\"],[0.6666666666666666,\"#ed7953\"],[0.7777777777777778,\"#fb9f3a\"],[0.8888888888888888,\"#fdca26\"],[1.0,\"#f0f921\"]],\"type\":\"heatmap\"}],\"heatmapgl\":[{\"colorbar\":{\"outlinewidth\":0,\"ticks\":\"\"},\"colorscale\":[[0.0,\"#0d0887\"],[0.1111111111111111,\"#46039f\"],[0.2222222222222222,\"#7201a8\"],[0.3333333333333333,\"#9c179e\"],[0.4444444444444444,\"#bd3786\"],[0.5555555555555556,\"#d8576b\"],[0.6666666666666666,\"#ed7953\"],[0.7777777777777778,\"#fb9f3a\"],[0.8888888888888888,\"#fdca26\"],[1.0,\"#f0f921\"]],\"type\":\"heatmapgl\"}],\"histogram\":[{\"marker\":{\"pattern\":{\"fillmode\":\"overlay\",\"size\":10,\"solidity\":0.2}},\"type\":\"histogram\"}],\"histogram2d\":[{\"colorbar\":{\"outlinewidth\":0,\"ticks\":\"\"},\"colorscale\":[[0.0,\"#0d0887\"],[0.1111111111111111,\"#46039f\"],[0.2222222222222222,\"#7201a8\"],[0.3333333333333333,\"#9c179e\"],[0.4444444444444444,\"#bd3786\"],[0.5555555555555556,\"#d8576b\"],[0.6666666666666666,\"#ed7953\"],[0.7777777777777778,\"#fb9f3a\"],[0.8888888888888888,\"#fdca26\"],[1.0,\"#f0f921\"]],\"type\":\"histogram2d\"}],\"histogram2dcontour\":[{\"colorbar\":{\"outlinewidth\":0,\"ticks\":\"\"},\"colorscale\":[[0.0,\"#0d0887\"],[0.1111111111111111,\"#46039f\"],[0.2222222222222222,\"#7201a8\"],[0.3333333333333333,\"#9c179e\"],[0.4444444444444444,\"#bd3786\"],[0.5555555555555556,\"#d8576b\"],[0.6666666666666666,\"#ed7953\"],[0.7777777777777778,\"#fb9f3a\"],[0.8888888888888888,\"#fdca26\"],[1.0,\"#f0f921\"]],\"type\":\"histogram2dcontour\"}],\"mesh3d\":[{\"colorbar\":{\"outlinewidth\":0,\"ticks\":\"\"},\"type\":\"mesh3d\"}],\"parcoords\":[{\"line\":{\"colorbar\":{\"outlinewidth\":0,\"ticks\":\"\"}},\"type\":\"parcoords\"}],\"pie\":[{\"automargin\":true,\"type\":\"pie\"}],\"scatter\":[{\"marker\":{\"colorbar\":{\"outlinewidth\":0,\"ticks\":\"\"}},\"type\":\"scatter\"}],\"scatter3d\":[{\"line\":{\"colorbar\":{\"outlinewidth\":0,\"ticks\":\"\"}},\"marker\":{\"colorbar\":{\"outlinewidth\":0,\"ticks\":\"\"}},\"type\":\"scatter3d\"}],\"scattercarpet\":[{\"marker\":{\"colorbar\":{\"outlinewidth\":0,\"ticks\":\"\"}},\"type\":\"scattercarpet\"}],\"scattergeo\":[{\"marker\":{\"colorbar\":{\"outlinewidth\":0,\"ticks\":\"\"}},\"type\":\"scattergeo\"}],\"scattergl\":[{\"marker\":{\"colorbar\":{\"outlinewidth\":0,\"ticks\":\"\"}},\"type\":\"scattergl\"}],\"scattermapbox\":[{\"marker\":{\"colorbar\":{\"outlinewidth\":0,\"ticks\":\"\"}},\"type\":\"scattermapbox\"}],\"scatterpolar\":[{\"marker\":{\"colorbar\":{\"outlinewidth\":0,\"ticks\":\"\"}},\"type\":\"scatterpolar\"}],\"scatterpolargl\":[{\"marker\":{\"colorbar\":{\"outlinewidth\":0,\"ticks\":\"\"}},\"type\":\"scatterpolargl\"}],\"scatterternary\":[{\"marker\":{\"colorbar\":{\"outlinewidth\":0,\"ticks\":\"\"}},\"type\":\"scatterternary\"}],\"surface\":[{\"colorbar\":{\"outlinewidth\":0,\"ticks\":\"\"},\"colorscale\":[[0.0,\"#0d0887\"],[0.1111111111111111,\"#46039f\"],[0.2222222222222222,\"#7201a8\"],[0.3333333333333333,\"#9c179e\"],[0.4444444444444444,\"#bd3786\"],[0.5555555555555556,\"#d8576b\"],[0.6666666666666666,\"#ed7953\"],[0.7777777777777778,\"#fb9f3a\"],[0.8888888888888888,\"#fdca26\"],[1.0,\"#f0f921\"]],\"type\":\"surface\"}],\"table\":[{\"cells\":{\"fill\":{\"color\":\"#EBF0F8\"},\"line\":{\"color\":\"white\"}},\"header\":{\"fill\":{\"color\":\"#C8D4E3\"},\"line\":{\"color\":\"white\"}},\"type\":\"table\"}]},\"layout\":{\"annotationdefaults\":{\"arrowcolor\":\"#2a3f5f\",\"arrowhead\":0,\"arrowwidth\":1},\"autotypenumbers\":\"strict\",\"coloraxis\":{\"colorbar\":{\"outlinewidth\":0,\"ticks\":\"\"}},\"colorscale\":{\"diverging\":[[0,\"#8e0152\"],[0.1,\"#c51b7d\"],[0.2,\"#de77ae\"],[0.3,\"#f1b6da\"],[0.4,\"#fde0ef\"],[0.5,\"#f7f7f7\"],[0.6,\"#e6f5d0\"],[0.7,\"#b8e186\"],[0.8,\"#7fbc41\"],[0.9,\"#4d9221\"],[1,\"#276419\"]],\"sequential\":[[0.0,\"#0d0887\"],[0.1111111111111111,\"#46039f\"],[0.2222222222222222,\"#7201a8\"],[0.3333333333333333,\"#9c179e\"],[0.4444444444444444,\"#bd3786\"],[0.5555555555555556,\"#d8576b\"],[0.6666666666666666,\"#ed7953\"],[0.7777777777777778,\"#fb9f3a\"],[0.8888888888888888,\"#fdca26\"],[1.0,\"#f0f921\"]],\"sequentialminus\":[[0.0,\"#0d0887\"],[0.1111111111111111,\"#46039f\"],[0.2222222222222222,\"#7201a8\"],[0.3333333333333333,\"#9c179e\"],[0.4444444444444444,\"#bd3786\"],[0.5555555555555556,\"#d8576b\"],[0.6666666666666666,\"#ed7953\"],[0.7777777777777778,\"#fb9f3a\"],[0.8888888888888888,\"#fdca26\"],[1.0,\"#f0f921\"]]},\"colorway\":[\"#636efa\",\"#EF553B\",\"#00cc96\",\"#ab63fa\",\"#FFA15A\",\"#19d3f3\",\"#FF6692\",\"#B6E880\",\"#FF97FF\",\"#FECB52\"],\"font\":{\"color\":\"#2a3f5f\"},\"geo\":{\"bgcolor\":\"white\",\"lakecolor\":\"white\",\"landcolor\":\"#E5ECF6\",\"showlakes\":true,\"showland\":true,\"subunitcolor\":\"white\"},\"hoverlabel\":{\"align\":\"left\"},\"hovermode\":\"closest\",\"mapbox\":{\"style\":\"light\"},\"paper_bgcolor\":\"white\",\"plot_bgcolor\":\"#E5ECF6\",\"polar\":{\"angularaxis\":{\"gridcolor\":\"white\",\"linecolor\":\"white\",\"ticks\":\"\"},\"bgcolor\":\"#E5ECF6\",\"radialaxis\":{\"gridcolor\":\"white\",\"linecolor\":\"white\",\"ticks\":\"\"}},\"scene\":{\"xaxis\":{\"backgroundcolor\":\"#E5ECF6\",\"gridcolor\":\"white\",\"gridwidth\":2,\"linecolor\":\"white\",\"showbackground\":true,\"ticks\":\"\",\"zerolinecolor\":\"white\"},\"yaxis\":{\"backgroundcolor\":\"#E5ECF6\",\"gridcolor\":\"white\",\"gridwidth\":2,\"linecolor\":\"white\",\"showbackground\":true,\"ticks\":\"\",\"zerolinecolor\":\"white\"},\"zaxis\":{\"backgroundcolor\":\"#E5ECF6\",\"gridcolor\":\"white\",\"gridwidth\":2,\"linecolor\":\"white\",\"showbackground\":true,\"ticks\":\"\",\"zerolinecolor\":\"white\"}},\"shapedefaults\":{\"line\":{\"color\":\"#2a3f5f\"}},\"ternary\":{\"aaxis\":{\"gridcolor\":\"white\",\"linecolor\":\"white\",\"ticks\":\"\"},\"baxis\":{\"gridcolor\":\"white\",\"linecolor\":\"white\",\"ticks\":\"\"},\"bgcolor\":\"#E5ECF6\",\"caxis\":{\"gridcolor\":\"white\",\"linecolor\":\"white\",\"ticks\":\"\"}},\"title\":{\"x\":0.05},\"xaxis\":{\"automargin\":true,\"gridcolor\":\"white\",\"linecolor\":\"white\",\"ticks\":\"\",\"title\":{\"standoff\":15},\"zerolinecolor\":\"white\",\"zerolinewidth\":2},\"yaxis\":{\"automargin\":true,\"gridcolor\":\"white\",\"linecolor\":\"white\",\"ticks\":\"\",\"title\":{\"standoff\":15},\"zerolinecolor\":\"white\",\"zerolinewidth\":2}}},\"xaxis\":{\"anchor\":\"y\",\"domain\":[0.0,1.0],\"title\":{\"text\":\"Article Title\"}},\"yaxis\":{\"anchor\":\"x\",\"domain\":[0.0,1.0],\"title\":{\"text\":\"Sentiment score\"}},\"legend\":{\"title\":{\"text\":\"variable\"},\"tracegroupgap\":0},\"title\":{\"text\":\"Sentiment Score of News Articles by PARAGRAPH\"},\"barmode\":\"group\"},                        {\"responsive\": true}                    ).then(function(){\n",
              "                            \n",
              "var gd = document.getElementById('a48fafbf-2a4c-4bbf-85d3-795c3ac70462');\n",
              "var x = new MutationObserver(function (mutations, observer) {{\n",
              "        var display = window.getComputedStyle(gd).display;\n",
              "        if (!display || display === 'none') {{\n",
              "            console.log([gd, 'removed!']);\n",
              "            Plotly.purge(gd);\n",
              "            observer.disconnect();\n",
              "        }}\n",
              "}});\n",
              "\n",
              "// Listen for the removal of the full notebook cells\n",
              "var notebookContainer = gd.closest('#notebook-container');\n",
              "if (notebookContainer) {{\n",
              "    x.observe(notebookContainer, {childList: true});\n",
              "}}\n",
              "\n",
              "// Listen for the clearing of the current output cell\n",
              "var outputEl = gd.closest('.output');\n",
              "if (outputEl) {{\n",
              "    x.observe(outputEl, {childList: true});\n",
              "}}\n",
              "\n",
              "                        })                };                            </script>        </div>\n",
              "</body>\n",
              "</html>"
            ]
          },
          "metadata": {}
        }
      ]
    },
    {
      "cell_type": "code",
      "source": [
        ""
      ],
      "metadata": {
        "id": "EmcEybFzya4O"
      },
      "execution_count": 468,
      "outputs": []
    },
    {
      "cell_type": "code",
      "source": [
        "from nltk.sentiment.vader import SentimentIntensityAnalyzer as SIA\n",
        "from pprint import pprint\n",
        "\n",
        "sia = SIA()\n",
        "results = []\n",
        "\n",
        "for title, paragraph in input_data.items():\n",
        "    pol_score = sia.polarity_scores(title)\n",
        "    pol_score['headline'] = title\n",
        "    results.append(pol_score)\n",
        "\n",
        "pprint(results[:], width=100)\n",
        "\n",
        "import plotly.express as px\n",
        "import pandas\n",
        "df = pd.DataFrame.from_dict(results)\n",
        "df.drop(\"compound\", axis = 1, inplace = True)\n",
        "df\n",
        "fig = px.histogram(df,\n",
        "                   x='headline',\n",
        "                   title='Sentiment Score of News Articles by TITLE',\n",
        "                   y= ['neg', 'neu','pos'],\n",
        "                   barmode='group',\n",
        "                  color_discrete_sequence=[\"red\", \"blue\", \"green\"])\n",
        "fig.update_xaxes( title='Article Title').update_yaxes(title='Sentiment score')\n",
        "fig.show()\n"
      ],
      "metadata": {
        "colab": {
          "base_uri": "https://localhost:8080/",
          "height": 1000
        },
        "id": "hH9sI43LBKXt",
        "outputId": "bf5cdb12-1922-4621-b58e-dfdbf8ca9c8c"
      },
      "execution_count": 469,
      "outputs": [
        {
          "output_type": "stream",
          "name": "stdout",
          "text": [
            "[{'compound': 0.0,\n",
            "  'headline': 'floods hit south africas kwazulunatal province again',\n",
            "  'neg': 0.0,\n",
            "  'neu': 1.0,\n",
            "  'pos': 0.0},\n",
            " {'compound': -0.5994,\n",
            "  'headline': 'mozambique cyclone gombe death toll rises to',\n",
            "  'neg': 0.394,\n",
            "  'neu': 0.606,\n",
            "  'pos': 0.0},\n",
            " {'compound': 0.0,\n",
            "  'headline': 'mozambique announces new prime minister after cabinet reshuffle',\n",
            "  'neg': 0.0,\n",
            "  'neu': 1.0,\n",
            "  'pos': 0.0},\n",
            " {'compound': 0.0,\n",
            "  'headline': 'analysis can african gas replace russian supplies to europe',\n",
            "  'neg': 0.0,\n",
            "  'neu': 1.0,\n",
            "  'pos': 0.0},\n",
            " {'compound': -0.6486,\n",
            "  'headline': 'dozens dead from tropical storm ana in southern africa',\n",
            "  'neg': 0.35,\n",
            "  'neu': 0.65,\n",
            "  'pos': 0.0},\n",
            " {'compound': 0.128,\n",
            "  'headline': 'southern africa bloc sadc extends mozambique mission',\n",
            "  'neg': 0.0,\n",
            "  'neu': 0.8,\n",
            "  'pos': 0.2},\n",
            " {'compound': 0.0, 'headline': 'from start here', 'neg': 0.0, 'neu': 1.0, 'pos': 0.0},\n",
            " {'compound': 0.0,\n",
            "  'headline': 'in mozambique kagame says rwandan troops work not over',\n",
            "  'neg': 0.0,\n",
            "  'neu': 1.0,\n",
            "  'pos': 0.0},\n",
            " {'compound': -0.2023,\n",
            "  'headline': 'rwanda mozambique forces recapture port city from rebels',\n",
            "  'neg': 0.205,\n",
            "  'neu': 0.795,\n",
            "  'pos': 0.0},\n",
            " {'compound': 0.0,\n",
            "  'headline': 'rwanda deploys soldiers to mozambiques cabo delgado',\n",
            "  'neg': 0.0,\n",
            "  'neu': 1.0,\n",
            "  'pos': 0.0}]\n"
          ]
        },
        {
          "output_type": "display_data",
          "data": {
            "text/html": [
              "<html>\n",
              "<head><meta charset=\"utf-8\" /></head>\n",
              "<body>\n",
              "    <div>            <script src=\"https://cdnjs.cloudflare.com/ajax/libs/mathjax/2.7.5/MathJax.js?config=TeX-AMS-MML_SVG\"></script><script type=\"text/javascript\">if (window.MathJax) {MathJax.Hub.Config({SVG: {font: \"STIX-Web\"}});}</script>                <script type=\"text/javascript\">window.PlotlyConfig = {MathJaxConfig: 'local'};</script>\n",
              "        <script src=\"https://cdn.plot.ly/plotly-2.8.3.min.js\"></script>                <div id=\"b575c5f6-ccf9-4bfe-a8cc-833eed0d7c13\" class=\"plotly-graph-div\" style=\"height:525px; width:100%;\"></div>            <script type=\"text/javascript\">                                    window.PLOTLYENV=window.PLOTLYENV || {};                                    if (document.getElementById(\"b575c5f6-ccf9-4bfe-a8cc-833eed0d7c13\")) {                    Plotly.newPlot(                        \"b575c5f6-ccf9-4bfe-a8cc-833eed0d7c13\",                        [{\"alignmentgroup\":\"True\",\"bingroup\":\"x\",\"histfunc\":\"sum\",\"hovertemplate\":\"variable=neg<br>headline=%{x}<br>sum of value=%{y}<extra></extra>\",\"legendgroup\":\"neg\",\"marker\":{\"color\":\"red\",\"pattern\":{\"shape\":\"\"}},\"name\":\"neg\",\"offsetgroup\":\"neg\",\"orientation\":\"v\",\"showlegend\":true,\"x\":[\"floods hit south africas kwazulunatal province again\",\"mozambique cyclone gombe death toll rises to\",\"mozambique announces new prime minister after cabinet reshuffle\",\"analysis can african gas replace russian supplies to europe\",\"dozens dead from tropical storm ana in southern africa\",\"southern africa bloc sadc extends mozambique mission\",\"from start here\",\"in mozambique kagame says rwandan troops work not over\",\"rwanda mozambique forces recapture port city from rebels\",\"rwanda deploys soldiers to mozambiques cabo delgado\"],\"xaxis\":\"x\",\"y\":[0.0,0.394,0.0,0.0,0.35,0.0,0.0,0.0,0.205,0.0],\"yaxis\":\"y\",\"type\":\"histogram\"},{\"alignmentgroup\":\"True\",\"bingroup\":\"x\",\"histfunc\":\"sum\",\"hovertemplate\":\"variable=neu<br>headline=%{x}<br>sum of value=%{y}<extra></extra>\",\"legendgroup\":\"neu\",\"marker\":{\"color\":\"blue\",\"pattern\":{\"shape\":\"\"}},\"name\":\"neu\",\"offsetgroup\":\"neu\",\"orientation\":\"v\",\"showlegend\":true,\"x\":[\"floods hit south africas kwazulunatal province again\",\"mozambique cyclone gombe death toll rises to\",\"mozambique announces new prime minister after cabinet reshuffle\",\"analysis can african gas replace russian supplies to europe\",\"dozens dead from tropical storm ana in southern africa\",\"southern africa bloc sadc extends mozambique mission\",\"from start here\",\"in mozambique kagame says rwandan troops work not over\",\"rwanda mozambique forces recapture port city from rebels\",\"rwanda deploys soldiers to mozambiques cabo delgado\"],\"xaxis\":\"x\",\"y\":[1.0,0.606,1.0,1.0,0.65,0.8,1.0,1.0,0.795,1.0],\"yaxis\":\"y\",\"type\":\"histogram\"},{\"alignmentgroup\":\"True\",\"bingroup\":\"x\",\"histfunc\":\"sum\",\"hovertemplate\":\"variable=pos<br>headline=%{x}<br>sum of value=%{y}<extra></extra>\",\"legendgroup\":\"pos\",\"marker\":{\"color\":\"green\",\"pattern\":{\"shape\":\"\"}},\"name\":\"pos\",\"offsetgroup\":\"pos\",\"orientation\":\"v\",\"showlegend\":true,\"x\":[\"floods hit south africas kwazulunatal province again\",\"mozambique cyclone gombe death toll rises to\",\"mozambique announces new prime minister after cabinet reshuffle\",\"analysis can african gas replace russian supplies to europe\",\"dozens dead from tropical storm ana in southern africa\",\"southern africa bloc sadc extends mozambique mission\",\"from start here\",\"in mozambique kagame says rwandan troops work not over\",\"rwanda mozambique forces recapture port city from rebels\",\"rwanda deploys soldiers to mozambiques cabo delgado\"],\"xaxis\":\"x\",\"y\":[0.0,0.0,0.0,0.0,0.0,0.2,0.0,0.0,0.0,0.0],\"yaxis\":\"y\",\"type\":\"histogram\"}],                        {\"template\":{\"data\":{\"bar\":[{\"error_x\":{\"color\":\"#2a3f5f\"},\"error_y\":{\"color\":\"#2a3f5f\"},\"marker\":{\"line\":{\"color\":\"#E5ECF6\",\"width\":0.5},\"pattern\":{\"fillmode\":\"overlay\",\"size\":10,\"solidity\":0.2}},\"type\":\"bar\"}],\"barpolar\":[{\"marker\":{\"line\":{\"color\":\"#E5ECF6\",\"width\":0.5},\"pattern\":{\"fillmode\":\"overlay\",\"size\":10,\"solidity\":0.2}},\"type\":\"barpolar\"}],\"carpet\":[{\"aaxis\":{\"endlinecolor\":\"#2a3f5f\",\"gridcolor\":\"white\",\"linecolor\":\"white\",\"minorgridcolor\":\"white\",\"startlinecolor\":\"#2a3f5f\"},\"baxis\":{\"endlinecolor\":\"#2a3f5f\",\"gridcolor\":\"white\",\"linecolor\":\"white\",\"minorgridcolor\":\"white\",\"startlinecolor\":\"#2a3f5f\"},\"type\":\"carpet\"}],\"choropleth\":[{\"colorbar\":{\"outlinewidth\":0,\"ticks\":\"\"},\"type\":\"choropleth\"}],\"contour\":[{\"colorbar\":{\"outlinewidth\":0,\"ticks\":\"\"},\"colorscale\":[[0.0,\"#0d0887\"],[0.1111111111111111,\"#46039f\"],[0.2222222222222222,\"#7201a8\"],[0.3333333333333333,\"#9c179e\"],[0.4444444444444444,\"#bd3786\"],[0.5555555555555556,\"#d8576b\"],[0.6666666666666666,\"#ed7953\"],[0.7777777777777778,\"#fb9f3a\"],[0.8888888888888888,\"#fdca26\"],[1.0,\"#f0f921\"]],\"type\":\"contour\"}],\"contourcarpet\":[{\"colorbar\":{\"outlinewidth\":0,\"ticks\":\"\"},\"type\":\"contourcarpet\"}],\"heatmap\":[{\"colorbar\":{\"outlinewidth\":0,\"ticks\":\"\"},\"colorscale\":[[0.0,\"#0d0887\"],[0.1111111111111111,\"#46039f\"],[0.2222222222222222,\"#7201a8\"],[0.3333333333333333,\"#9c179e\"],[0.4444444444444444,\"#bd3786\"],[0.5555555555555556,\"#d8576b\"],[0.6666666666666666,\"#ed7953\"],[0.7777777777777778,\"#fb9f3a\"],[0.8888888888888888,\"#fdca26\"],[1.0,\"#f0f921\"]],\"type\":\"heatmap\"}],\"heatmapgl\":[{\"colorbar\":{\"outlinewidth\":0,\"ticks\":\"\"},\"colorscale\":[[0.0,\"#0d0887\"],[0.1111111111111111,\"#46039f\"],[0.2222222222222222,\"#7201a8\"],[0.3333333333333333,\"#9c179e\"],[0.4444444444444444,\"#bd3786\"],[0.5555555555555556,\"#d8576b\"],[0.6666666666666666,\"#ed7953\"],[0.7777777777777778,\"#fb9f3a\"],[0.8888888888888888,\"#fdca26\"],[1.0,\"#f0f921\"]],\"type\":\"heatmapgl\"}],\"histogram\":[{\"marker\":{\"pattern\":{\"fillmode\":\"overlay\",\"size\":10,\"solidity\":0.2}},\"type\":\"histogram\"}],\"histogram2d\":[{\"colorbar\":{\"outlinewidth\":0,\"ticks\":\"\"},\"colorscale\":[[0.0,\"#0d0887\"],[0.1111111111111111,\"#46039f\"],[0.2222222222222222,\"#7201a8\"],[0.3333333333333333,\"#9c179e\"],[0.4444444444444444,\"#bd3786\"],[0.5555555555555556,\"#d8576b\"],[0.6666666666666666,\"#ed7953\"],[0.7777777777777778,\"#fb9f3a\"],[0.8888888888888888,\"#fdca26\"],[1.0,\"#f0f921\"]],\"type\":\"histogram2d\"}],\"histogram2dcontour\":[{\"colorbar\":{\"outlinewidth\":0,\"ticks\":\"\"},\"colorscale\":[[0.0,\"#0d0887\"],[0.1111111111111111,\"#46039f\"],[0.2222222222222222,\"#7201a8\"],[0.3333333333333333,\"#9c179e\"],[0.4444444444444444,\"#bd3786\"],[0.5555555555555556,\"#d8576b\"],[0.6666666666666666,\"#ed7953\"],[0.7777777777777778,\"#fb9f3a\"],[0.8888888888888888,\"#fdca26\"],[1.0,\"#f0f921\"]],\"type\":\"histogram2dcontour\"}],\"mesh3d\":[{\"colorbar\":{\"outlinewidth\":0,\"ticks\":\"\"},\"type\":\"mesh3d\"}],\"parcoords\":[{\"line\":{\"colorbar\":{\"outlinewidth\":0,\"ticks\":\"\"}},\"type\":\"parcoords\"}],\"pie\":[{\"automargin\":true,\"type\":\"pie\"}],\"scatter\":[{\"marker\":{\"colorbar\":{\"outlinewidth\":0,\"ticks\":\"\"}},\"type\":\"scatter\"}],\"scatter3d\":[{\"line\":{\"colorbar\":{\"outlinewidth\":0,\"ticks\":\"\"}},\"marker\":{\"colorbar\":{\"outlinewidth\":0,\"ticks\":\"\"}},\"type\":\"scatter3d\"}],\"scattercarpet\":[{\"marker\":{\"colorbar\":{\"outlinewidth\":0,\"ticks\":\"\"}},\"type\":\"scattercarpet\"}],\"scattergeo\":[{\"marker\":{\"colorbar\":{\"outlinewidth\":0,\"ticks\":\"\"}},\"type\":\"scattergeo\"}],\"scattergl\":[{\"marker\":{\"colorbar\":{\"outlinewidth\":0,\"ticks\":\"\"}},\"type\":\"scattergl\"}],\"scattermapbox\":[{\"marker\":{\"colorbar\":{\"outlinewidth\":0,\"ticks\":\"\"}},\"type\":\"scattermapbox\"}],\"scatterpolar\":[{\"marker\":{\"colorbar\":{\"outlinewidth\":0,\"ticks\":\"\"}},\"type\":\"scatterpolar\"}],\"scatterpolargl\":[{\"marker\":{\"colorbar\":{\"outlinewidth\":0,\"ticks\":\"\"}},\"type\":\"scatterpolargl\"}],\"scatterternary\":[{\"marker\":{\"colorbar\":{\"outlinewidth\":0,\"ticks\":\"\"}},\"type\":\"scatterternary\"}],\"surface\":[{\"colorbar\":{\"outlinewidth\":0,\"ticks\":\"\"},\"colorscale\":[[0.0,\"#0d0887\"],[0.1111111111111111,\"#46039f\"],[0.2222222222222222,\"#7201a8\"],[0.3333333333333333,\"#9c179e\"],[0.4444444444444444,\"#bd3786\"],[0.5555555555555556,\"#d8576b\"],[0.6666666666666666,\"#ed7953\"],[0.7777777777777778,\"#fb9f3a\"],[0.8888888888888888,\"#fdca26\"],[1.0,\"#f0f921\"]],\"type\":\"surface\"}],\"table\":[{\"cells\":{\"fill\":{\"color\":\"#EBF0F8\"},\"line\":{\"color\":\"white\"}},\"header\":{\"fill\":{\"color\":\"#C8D4E3\"},\"line\":{\"color\":\"white\"}},\"type\":\"table\"}]},\"layout\":{\"annotationdefaults\":{\"arrowcolor\":\"#2a3f5f\",\"arrowhead\":0,\"arrowwidth\":1},\"autotypenumbers\":\"strict\",\"coloraxis\":{\"colorbar\":{\"outlinewidth\":0,\"ticks\":\"\"}},\"colorscale\":{\"diverging\":[[0,\"#8e0152\"],[0.1,\"#c51b7d\"],[0.2,\"#de77ae\"],[0.3,\"#f1b6da\"],[0.4,\"#fde0ef\"],[0.5,\"#f7f7f7\"],[0.6,\"#e6f5d0\"],[0.7,\"#b8e186\"],[0.8,\"#7fbc41\"],[0.9,\"#4d9221\"],[1,\"#276419\"]],\"sequential\":[[0.0,\"#0d0887\"],[0.1111111111111111,\"#46039f\"],[0.2222222222222222,\"#7201a8\"],[0.3333333333333333,\"#9c179e\"],[0.4444444444444444,\"#bd3786\"],[0.5555555555555556,\"#d8576b\"],[0.6666666666666666,\"#ed7953\"],[0.7777777777777778,\"#fb9f3a\"],[0.8888888888888888,\"#fdca26\"],[1.0,\"#f0f921\"]],\"sequentialminus\":[[0.0,\"#0d0887\"],[0.1111111111111111,\"#46039f\"],[0.2222222222222222,\"#7201a8\"],[0.3333333333333333,\"#9c179e\"],[0.4444444444444444,\"#bd3786\"],[0.5555555555555556,\"#d8576b\"],[0.6666666666666666,\"#ed7953\"],[0.7777777777777778,\"#fb9f3a\"],[0.8888888888888888,\"#fdca26\"],[1.0,\"#f0f921\"]]},\"colorway\":[\"#636efa\",\"#EF553B\",\"#00cc96\",\"#ab63fa\",\"#FFA15A\",\"#19d3f3\",\"#FF6692\",\"#B6E880\",\"#FF97FF\",\"#FECB52\"],\"font\":{\"color\":\"#2a3f5f\"},\"geo\":{\"bgcolor\":\"white\",\"lakecolor\":\"white\",\"landcolor\":\"#E5ECF6\",\"showlakes\":true,\"showland\":true,\"subunitcolor\":\"white\"},\"hoverlabel\":{\"align\":\"left\"},\"hovermode\":\"closest\",\"mapbox\":{\"style\":\"light\"},\"paper_bgcolor\":\"white\",\"plot_bgcolor\":\"#E5ECF6\",\"polar\":{\"angularaxis\":{\"gridcolor\":\"white\",\"linecolor\":\"white\",\"ticks\":\"\"},\"bgcolor\":\"#E5ECF6\",\"radialaxis\":{\"gridcolor\":\"white\",\"linecolor\":\"white\",\"ticks\":\"\"}},\"scene\":{\"xaxis\":{\"backgroundcolor\":\"#E5ECF6\",\"gridcolor\":\"white\",\"gridwidth\":2,\"linecolor\":\"white\",\"showbackground\":true,\"ticks\":\"\",\"zerolinecolor\":\"white\"},\"yaxis\":{\"backgroundcolor\":\"#E5ECF6\",\"gridcolor\":\"white\",\"gridwidth\":2,\"linecolor\":\"white\",\"showbackground\":true,\"ticks\":\"\",\"zerolinecolor\":\"white\"},\"zaxis\":{\"backgroundcolor\":\"#E5ECF6\",\"gridcolor\":\"white\",\"gridwidth\":2,\"linecolor\":\"white\",\"showbackground\":true,\"ticks\":\"\",\"zerolinecolor\":\"white\"}},\"shapedefaults\":{\"line\":{\"color\":\"#2a3f5f\"}},\"ternary\":{\"aaxis\":{\"gridcolor\":\"white\",\"linecolor\":\"white\",\"ticks\":\"\"},\"baxis\":{\"gridcolor\":\"white\",\"linecolor\":\"white\",\"ticks\":\"\"},\"bgcolor\":\"#E5ECF6\",\"caxis\":{\"gridcolor\":\"white\",\"linecolor\":\"white\",\"ticks\":\"\"}},\"title\":{\"x\":0.05},\"xaxis\":{\"automargin\":true,\"gridcolor\":\"white\",\"linecolor\":\"white\",\"ticks\":\"\",\"title\":{\"standoff\":15},\"zerolinecolor\":\"white\",\"zerolinewidth\":2},\"yaxis\":{\"automargin\":true,\"gridcolor\":\"white\",\"linecolor\":\"white\",\"ticks\":\"\",\"title\":{\"standoff\":15},\"zerolinecolor\":\"white\",\"zerolinewidth\":2}}},\"xaxis\":{\"anchor\":\"y\",\"domain\":[0.0,1.0],\"title\":{\"text\":\"Article Title\"}},\"yaxis\":{\"anchor\":\"x\",\"domain\":[0.0,1.0],\"title\":{\"text\":\"Sentiment score\"}},\"legend\":{\"title\":{\"text\":\"variable\"},\"tracegroupgap\":0},\"title\":{\"text\":\"Sentiment Score of News Articles by TITLE\"},\"barmode\":\"group\"},                        {\"responsive\": true}                    ).then(function(){\n",
              "                            \n",
              "var gd = document.getElementById('b575c5f6-ccf9-4bfe-a8cc-833eed0d7c13');\n",
              "var x = new MutationObserver(function (mutations, observer) {{\n",
              "        var display = window.getComputedStyle(gd).display;\n",
              "        if (!display || display === 'none') {{\n",
              "            console.log([gd, 'removed!']);\n",
              "            Plotly.purge(gd);\n",
              "            observer.disconnect();\n",
              "        }}\n",
              "}});\n",
              "\n",
              "// Listen for the removal of the full notebook cells\n",
              "var notebookContainer = gd.closest('#notebook-container');\n",
              "if (notebookContainer) {{\n",
              "    x.observe(notebookContainer, {childList: true});\n",
              "}}\n",
              "\n",
              "// Listen for the clearing of the current output cell\n",
              "var outputEl = gd.closest('.output');\n",
              "if (outputEl) {{\n",
              "    x.observe(outputEl, {childList: true});\n",
              "}}\n",
              "\n",
              "                        })                };                            </script>        </div>\n",
              "</body>\n",
              "</html>"
            ]
          },
          "metadata": {}
        }
      ]
    },
    {
      "cell_type": "code",
      "source": [
        ""
      ],
      "metadata": {
        "id": "xi4-u1VPCckL"
      },
      "execution_count": null,
      "outputs": []
    }
  ]
}